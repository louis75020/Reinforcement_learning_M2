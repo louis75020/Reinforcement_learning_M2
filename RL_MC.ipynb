{
 "cells": [
  {
   "cell_type": "markdown",
   "metadata": {
    "id": "GnFbULSy_vcf"
   },
   "source": [
    "# TP avec méthodes de Monte Carlo"
   ]
  },
  {
   "cell_type": "markdown",
   "metadata": {
    "id": "w4Hv9FWiVCZG"
   },
   "source": [
    "[OpenAI gym](https://gym.openai.com/) est un environnement pour tester et comparer des algorithmes d'apprentissage par renforcement. \n"
   ]
  },
  {
   "cell_type": "markdown",
   "metadata": {},
   "source": [
    "https://github.com/openai/gym/blob/master/gym/envs/toy_text/blackjack.py"
   ]
  },
  {
   "cell_type": "markdown",
   "metadata": {
    "id": "23p_r3ATPJwC"
   },
   "source": [
    "## Black Jack (simplifié)\n",
    "\n",
    "On considère une version simplifiée du jeu de Blackjack où le but est d'accumuler des cartes dont la somme des points ne doit pas dépasser 21. Les figures valent 10 points, les cartes numérotées valent le numéro de la carte. Il y a une complication avec l'as qui peut être vue comme valant 1 point (comme un 1) ou comme un 11 (un as). Ici, on va jouer contre un croupier qui a une stratégie fixée.\n",
    "* au départ du jeu, le croupier et le joueur possèdent deux cartes. Le joueur peut observer ses deux cartes, mais ne peut observer qu'une seule carte du croupier.\n",
    "* Si le joueur a déjà 21 points, la partie s'arrête et soit le joueur gagne, soit le match est nul si le croupier a aussi 21 points. \n",
    "* si le joueur n'a pas 21 points, il peut décider de rester (stick) ou bien il peut demander une nouvelle carte (hit) de façon répétée.\n",
    "* quand le joueur décide de s'arrêter, le dealer peut à son tour s'arrêter ou demander des nouvelles cartes. Ici, on va supposer que ce choix se fait selon une stratégie fixe: il s'arrête dès qu'il a 17 point ou plus, il demande une carte dans le cas contraire.\n",
    "* si un joueur dépasse 21 points en demandant une carte, il perd la partie\n",
    "* si les deux joueurs se sont arrêtés, c'est celui dont la somme des cartes est plus proche de 21 qui remporte la partie.\n",
    "\n",
    "On fait l'hypothèse que le croupier tire les cartes dans une pile infinie (avec remplacement).\n",
    "\n",
    "Si le joueur possède un as qu'il peut utiliser comme 1 ou 11 sans dépasser 21, on dit qu'il a un as utilisable.\n",
    "\n",
    "L'état du jeu peut être décrit par un triplet:\n",
    "* la somme de points courante (dont on pourrait restreindre l'intervalle à [12-21])\n",
    "* la valeur de la carte du croupier\n",
    "* la possession ou non d'un as utilisable\n",
    "\n",
    "On va donc modéliser avec un taux d'escompte $\\gamma=1$.\n"
   ]
  },
  {
   "cell_type": "code",
   "execution_count": 1,
   "metadata": {
    "colab": {
     "base_uri": "https://localhost:8080/",
     "height": 35
    },
    "id": "qJSwocx3NZBY",
    "outputId": "74e86597-3343-40c8-f8fb-10fd60460f38"
   },
   "outputs": [
    {
     "name": "stdout",
     "output_type": "stream",
     "text": [
      "Tuple(Discrete(32), Discrete(11), Discrete(2))\n"
     ]
    }
   ],
   "source": [
    "# import useful modules\n",
    "import numpy as np\n",
    "from mpl_toolkits.mplot3d import Axes3D\n",
    "import matplotlib.pyplot as plt\n",
    "from matplotlib import cm\n",
    "\n",
    "# set up openAi Gym\n",
    "import gym\n",
    "from gym import envs\n",
    "env = gym.make(\"Blackjack-v0\")\n",
    "numActions = env.action_space.n\n",
    "print(env.observation_space)"
   ]
  },
  {
   "cell_type": "markdown",
   "metadata": {
    "id": "gB7NW4uZg0Ma"
   },
   "source": [
    "L'état du jeu de blackjack est donc décrit par un triplet $(s_1, s_2, a)$ où $s_1$ est la somme des points contenus dans la main du joueur, $s_2$ est la valeur de la carte visible du croupier, et $a$ est un booléen qui indique si le joueur possède un as utilisable.\n",
    "\n",
    "Comme vous pouvez le voir dans l'exécution du code ci-dessus, l'espace des états pour ce jeu est encodé comme un triplet, et $s_1$ peut prendre 32 valeurs, $s_2$ peut prendre 11 valeurs. En théorie, on pourrait restreindre $s_1$ a 21 valeurs (au delà de 21 points, on est dans un état final perdant), voir même moins (au deça de 10 points, prendre une carte est sans risque!). Pour faciliter le code, on ne va pas chercher à optimiser l'espace et on va conserver 32 possibilités. "
   ]
  },
  {
   "cell_type": "code",
   "execution_count": 43,
   "metadata": {
    "id": "4O9dtNWXg0fC"
   },
   "outputs": [
    {
     "name": "stdout",
     "output_type": "stream",
     "text": [
      "problem with  704  states and  2 actions\n"
     ]
    }
   ],
   "source": [
    "# maxSum is the maximum sum I can have in my hand\n",
    "maxSum = 32\n",
    "# maxOppScore is the maximum value of the card I can see from the opponent\n",
    "maxOppScore = 11\n",
    "# number of States\n",
    "numStates = 32*11*2\n",
    "print('problem with ', numStates, \" states and \", numActions, \"actions\")"
   ]
  },
  {
   "cell_type": "markdown",
   "metadata": {
    "id": "PFM0B-0UC9oA"
   },
   "source": [
    "  Pour essayer d'écrire un code que l'on pourra utiliser pour d'autres problèmes, on vous donne le code pour encoder l'état avec un entier et pour faire l'invese (i.e. décoder un entier en un état). Ainsi, il vous sera possible d'avoir des tables du style $v(s)$ et $q(s,a)$ où $s$ sera l'index d'un des états du jeu, et $a$ l'index d'une action...."
   ]
  },
  {
   "cell_type": "code",
   "execution_count": 42,
   "metadata": {
    "id": "mtKDx5xxPano"
   },
   "outputs": [],
   "source": [
    "# function to encode or decode a state\n",
    "#~~~~~~~~~~~~~~~~~~~~~~~~~~~~~~~~~~~~~~~~~~~~~~~~~~~~~~~~~~~~~~~~~~~~~~~~\n",
    "# encode a state as an integer\n",
    "# for blackjack, the state is s=[i,j,b] where\n",
    "# i is the number of points in my hand i \\in [1,31]\n",
    "# j is the number of points I can observe from the opponent j\\in [1,10]\n",
    "# b is a boolean telling whether I have a usable ace\n",
    "#\n",
    "# encode turns the state to an integer, and decode does the opposite\n",
    "def encode(state):\n",
    "  if state[2]:\n",
    "    return state[0] + state[1]*maxSum\n",
    "  else:\n",
    "    return state[0]+ state[1]*maxSum + maxSum * maxOppScore\n",
    "\n",
    "def decode(index):\n",
    "  state = [0, 0, 0]\n",
    "  if (index > maxSum*maxOppScore):\n",
    "    state[2] = False\n",
    "    index = index - maxSum*maxOppScore\n",
    "  else:\n",
    "    state[2] = True\n",
    "  state[0] = index % maxSum\n",
    "  state[1]= index // maxSum\n",
    "  return state"
   ]
  },
  {
   "cell_type": "markdown",
   "metadata": {
    "id": "_IYN-06XCI6w"
   },
   "source": [
    "## Evaluation d'une politique fixée\n",
    "\n",
    "On va tout d'abord évaluer une politique fixée $\\pi$ avec un algorithme de Monte Carlo. La politique que l'on va évaluer est simple: si le joueur à 20 points ou plus, il s'arrête, sinon, il demande une carte. La politique est encodée dans la fonction strategy ci-dessous."
   ]
  },
  {
   "cell_type": "code",
   "execution_count": 4,
   "metadata": {
    "id": "YOScUOWWjIpG"
   },
   "outputs": [],
   "source": [
    "def strategy(state) :\n",
    "  if (state[0] >= 20) :\n",
    "    return 0\n",
    "  else :\n",
    "    return 1"
   ]
  },
  {
   "cell_type": "markdown",
   "metadata": {
    "id": "KEGKXXJzHNeO"
   },
   "source": [
    "### Implémentez\n",
    "\n",
    "Implémentez l'algorithme de Monte Carlo dans sa version \"all-visit\" pour évaluer une politique (même si un état se répète plusieurs fois sur la trace d'exécution de l'épisode, on met à jour ses statistiques). Cet algorithme est un peu plus simple à implémenter que son variant \"first-visit\" pour lequel on met à jour un état seulement lors de sa première visite.\n",
    "\n",
    "Cela dit, dans le cadre de Blackjack, est-ce qu'on aurait une différence?\n"
   ]
  },
  {
   "cell_type": "code",
   "execution_count": 51,
   "metadata": {},
   "outputs": [
    {
     "data": {
      "text/plain": [
       "(14, 9, False)"
      ]
     },
     "execution_count": 51,
     "metadata": {},
     "output_type": "execute_result"
    }
   ],
   "source": [
    "env.reset()"
   ]
  },
  {
   "cell_type": "code",
   "execution_count": 67,
   "metadata": {},
   "outputs": [
    {
     "data": {
      "text/plain": [
       "1"
      ]
     },
     "execution_count": 67,
     "metadata": {},
     "output_type": "execute_result"
    }
   ],
   "source": [
    "env.action_space.sample()"
   ]
  },
  {
   "cell_type": "code",
   "execution_count": 53,
   "metadata": {},
   "outputs": [
    {
     "data": {
      "text/plain": [
       "((24, 9, False), -1.0, True, {})"
      ]
     },
     "execution_count": 53,
     "metadata": {},
     "output_type": "execute_result"
    }
   ],
   "source": [
    "env.step(True)"
   ]
  },
  {
   "cell_type": "code",
   "execution_count": 177,
   "metadata": {},
   "outputs": [
    {
     "data": {
      "text/plain": [
       "((28, 4, False), 0.0, True, {})"
      ]
     },
     "execution_count": 177,
     "metadata": {},
     "output_type": "execute_result"
    }
   ],
   "source": [
    "env.step(False)"
   ]
  },
  {
   "cell_type": "code",
   "execution_count": 82,
   "metadata": {},
   "outputs": [
    {
     "data": {
      "text/plain": [
       "((22, 9, False), -1.0, True, {})"
      ]
     },
     "execution_count": 82,
     "metadata": {},
     "output_type": "execute_result"
    }
   ],
   "source": [
    "env.step(1)"
   ]
  },
  {
   "cell_type": "code",
   "execution_count": 83,
   "metadata": {},
   "outputs": [],
   "source": [
    "env.close()"
   ]
  },
  {
   "cell_type": "markdown",
   "metadata": {},
   "source": [
    "Rq : au blackjack la valeur en main du joueur est strictement croissante au cours de l'épisode (s'il tire une carte sa valeur prend au moins += 1). Donc chaque état sera visité au plus une fois au cours de l'épisode. Les 2 algos reviennent donc au même."
   ]
  },
  {
   "cell_type": "code",
   "execution_count": 138,
   "metadata": {},
   "outputs": [],
   "source": [
    "#strategy : observation(,,), **strategy_args{} -> action\n",
    "\n",
    "def run_episode(observations, rewards, actions, env, strategy, strategy_args = {}) :\n",
    "    #Intital hand\n",
    "    observation = env.reset() #new hand\n",
    "    observations.append(observation)\n",
    "    rewards.append(0) #no return at the first hand - until the dealer has played\n",
    "    action = strategy(observation, **strategy_args) #next action(strategy, observation)\n",
    "    actions.append(action)\n",
    "    no_bust = True\n",
    "\n",
    "    #next hands\n",
    "    while action == 1 and no_bust : #draw new cards until our strategy tells us to stop or we lose\n",
    "        hand = env.step(True) #we draw a card\n",
    "        observations.append(hand[0])\n",
    "        rewards.append(hand[1])\n",
    "        action = strategy(observations[-1], **strategy_args) #we take a decision for our next action\n",
    "        actions.append(action)\n",
    "        no_bust = not(hand[2])\n",
    "        \n",
    "    #Dealer turn\n",
    "    final_hand = env.step(False) \n",
    "    final_reward = final_hand[1]\n",
    "    rewards[-1] += final_reward # in case of bust final_reward = 0"
   ]
  },
  {
   "cell_type": "code",
   "execution_count": 139,
   "metadata": {},
   "outputs": [],
   "source": [
    "#### first visit######\n",
    "\n",
    "def MC_update_first_visit(vn, n, accn, gamma, env, strategy, strategy_args, run_episode):\n",
    "    \n",
    "    rewards = []\n",
    "    observations = []\n",
    "    visited = []\n",
    "    actions = []\n",
    "    \n",
    "    #run episode\n",
    "    run_episode(observations, rewards, actions, env, strategy, strategy_args)\n",
    "    k = len(observations)\n",
    "        \n",
    "    #POLICY UPDATE\n",
    "    for observation in observations :\n",
    "        \n",
    "        tmp = encode(observation)\n",
    "        \n",
    "        if tmp in visited : #already updated\n",
    "            k -= 1\n",
    "            \n",
    "        else :\n",
    "            G = np.sum( rewards[:k] * (gamma * np.ones(k))**np.arange(k) )\n",
    "            accn[tmp - 1] += G\n",
    "            n[tmp - 1] += 1\n",
    "            vn[tmp - 1] = accn[tmp] / n[tmp - 1]\n",
    "            k -= 1\n",
    "            visited.append(tmp)\n",
    "            \n",
    "    return accn, n, vn\n",
    "\n",
    "\n",
    "########all visits#########\n",
    "\n",
    "\n",
    "def MC_update_all_visits(vn, n, accn, gamma, env, strategy, strategy_args, run_episode):\n",
    "    \n",
    "    rewards = []\n",
    "    observations = []\n",
    "    visited = []\n",
    "    actions = []\n",
    "        \n",
    "    #run episode\n",
    "    run_episode(observations, rewards, actions, env, strategy, strategy_args)\n",
    "    k = len(observations)\n",
    "        \n",
    "    #POLICY UPDATE\n",
    "    for observation in observations :\n",
    "        \n",
    "        tmp = encode(observation)\n",
    "        G = np.sum( rewards[:k] * (gamma * np.ones(k))**np.arange(k) )\n",
    "        accn[tmp - 1] += G\n",
    "        n[tmp - 1] += 1\n",
    "        vn[tmp - 1] = accn[tmp - 1] / n[tmp - 1]\n",
    "        k -= 1\n",
    "        visited.append(tmp)\n",
    "            \n",
    "    return accn, n, vn\n",
    "    \n",
    "\n",
    "####Interface######\n",
    "    \n",
    "def MC_update(vn, n, accn, gamma, env, strategy, strategy_args, run_episode, first_visit = False):\n",
    "    \n",
    "    if first_visit : return MC_update_first_visit(vn, n, accn, gamma, env, strategy, strategy_args, run_episode)\n",
    "    else : return MC_update_all_visits(vn, n, accn, gamma, env, strategy, strategy_args, run_episode)\n",
    "    "
   ]
  },
  {
   "cell_type": "code",
   "execution_count": 140,
   "metadata": {
    "id": "CyZ3hrAriRzQ"
   },
   "outputs": [],
   "source": [
    "######### Monte Carlo policy evaluation #########\n",
    "\n",
    "def MC_policy_evaluation(strategy, \n",
    "                         strategy_args = {},\n",
    "                         env = env,\n",
    "                         numStates = numStates,\n",
    "                         run_episode = run_episode,\n",
    "                         gamma = 1,\n",
    "                         first_visit = False, \n",
    "                         max_iter = 100000,\n",
    "                         debug = True):\n",
    "    \n",
    "    #Initialization :\n",
    "    vn = np.zeros(numStates) #weighted returns vector\n",
    "    n = np.zeros(numStates) #number of times that we chose state s in S\n",
    "    accn = np.zeros(numStates) #long_term rewards\n",
    "    \n",
    "    #Main :\n",
    "    for t in range(max_iter):\n",
    "        \n",
    "       accn, n, vn = MC_update(vn, n, accn, gamma, env, strategy, strategy_args, run_episode, first_visit)\n",
    "    \n",
    "    return vn"
   ]
  },
  {
   "cell_type": "code",
   "execution_count": 141,
   "metadata": {},
   "outputs": [],
   "source": [
    "q = MC_policy_evaluation(strategy)"
   ]
  },
  {
   "cell_type": "code",
   "execution_count": 142,
   "metadata": {},
   "outputs": [
    {
     "name": "stdout",
     "output_type": "stream",
     "text": [
      "[0, 0, True]  :  0.0\n",
      "[1, 0, True]  :  0.0\n",
      "[2, 0, True]  :  0.0\n",
      "[3, 0, True]  :  0.0\n",
      "[4, 0, True]  :  0.0\n",
      "[5, 0, True]  :  0.0\n",
      "[6, 0, True]  :  0.0\n",
      "[7, 0, True]  :  0.0\n",
      "[8, 0, True]  :  0.0\n",
      "[9, 0, True]  :  0.0\n",
      "[10, 0, True]  :  0.0\n",
      "[11, 0, True]  :  0.0\n",
      "[12, 0, True]  :  0.0\n",
      "[13, 0, True]  :  0.0\n",
      "[14, 0, True]  :  0.0\n",
      "[15, 0, True]  :  0.0\n",
      "[16, 0, True]  :  0.0\n",
      "[17, 0, True]  :  0.0\n",
      "[18, 0, True]  :  0.0\n",
      "[19, 0, True]  :  0.0\n",
      "[20, 0, True]  :  0.0\n",
      "[21, 0, True]  :  0.0\n",
      "[22, 0, True]  :  0.0\n",
      "[23, 0, True]  :  0.0\n",
      "[24, 0, True]  :  0.0\n",
      "[25, 0, True]  :  0.0\n",
      "[26, 0, True]  :  0.0\n",
      "[27, 0, True]  :  0.0\n",
      "[28, 0, True]  :  0.0\n",
      "[29, 0, True]  :  0.0\n",
      "[30, 0, True]  :  0.0\n",
      "[31, 0, True]  :  0.0\n",
      "[0, 1, True]  :  0.0\n",
      "[1, 1, True]  :  0.0\n",
      "[2, 1, True]  :  0.0\n",
      "[3, 1, True]  :  0.0\n",
      "[4, 1, True]  :  0.0\n",
      "[5, 1, True]  :  0.0\n",
      "[6, 1, True]  :  0.0\n",
      "[7, 1, True]  :  0.0\n",
      "[8, 1, True]  :  0.0\n",
      "[9, 1, True]  :  0.0\n",
      "[10, 1, True]  :  0.0\n",
      "[11, 1, True]  :  -0.6666666666666666\n",
      "[12, 1, True]  :  -0.9775280898876404\n",
      "[13, 1, True]  :  -0.5416666666666666\n",
      "[14, 1, True]  :  -0.7256637168141593\n",
      "[15, 1, True]  :  -0.6902654867256637\n",
      "[16, 1, True]  :  -0.6850393700787402\n",
      "[17, 1, True]  :  -0.5369127516778524\n",
      "[18, 1, True]  :  -0.6629834254143646\n",
      "[19, 1, True]  :  0.031413612565445025\n",
      "[20, 1, True]  :  0.5161943319838057\n",
      "[21, 1, True]  :  0.0\n",
      "[22, 1, True]  :  0.0\n",
      "[23, 1, True]  :  0.0\n",
      "[24, 1, True]  :  0.0\n",
      "[25, 1, True]  :  0.0\n",
      "[26, 1, True]  :  0.0\n",
      "[27, 1, True]  :  0.0\n",
      "[28, 1, True]  :  0.0\n",
      "[29, 1, True]  :  0.0\n",
      "[30, 1, True]  :  0.0\n",
      "[31, 1, True]  :  0.0\n",
      "[0, 2, True]  :  0.0\n",
      "[1, 2, True]  :  0.0\n",
      "[2, 2, True]  :  0.0\n",
      "[3, 2, True]  :  0.0\n",
      "[4, 2, True]  :  0.0\n",
      "[5, 2, True]  :  0.0\n",
      "[6, 2, True]  :  0.0\n",
      "[7, 2, True]  :  0.0\n",
      "[8, 2, True]  :  0.0\n",
      "[9, 2, True]  :  0.0\n",
      "[10, 2, True]  :  0.0\n",
      "[11, 2, True]  :  -0.2826086956521739\n",
      "[12, 2, True]  :  -0.5588235294117647\n",
      "[13, 2, True]  :  -0.6451612903225806\n",
      "[14, 2, True]  :  -0.63\n",
      "[15, 2, True]  :  -0.5789473684210527\n",
      "[16, 2, True]  :  -0.5102040816326531\n",
      "[17, 2, True]  :  -0.5748502994011976\n",
      "[18, 2, True]  :  -0.5375722543352601\n",
      "[19, 2, True]  :  0.32065217391304346\n",
      "[20, 2, True]  :  0.7007125890736342\n",
      "[21, 2, True]  :  0.0\n",
      "[22, 2, True]  :  0.0\n",
      "[23, 2, True]  :  0.0\n",
      "[24, 2, True]  :  0.0\n",
      "[25, 2, True]  :  0.0\n",
      "[26, 2, True]  :  0.0\n",
      "[27, 2, True]  :  0.0\n",
      "[28, 2, True]  :  0.0\n",
      "[29, 2, True]  :  0.0\n",
      "[30, 2, True]  :  0.0\n",
      "[31, 2, True]  :  0.0\n",
      "[0, 3, True]  :  0.0\n",
      "[1, 3, True]  :  0.0\n",
      "[2, 3, True]  :  0.0\n",
      "[3, 3, True]  :  0.0\n",
      "[4, 3, True]  :  0.0\n",
      "[5, 3, True]  :  0.0\n",
      "[6, 3, True]  :  0.0\n",
      "[7, 3, True]  :  0.0\n",
      "[8, 3, True]  :  0.0\n",
      "[9, 3, True]  :  0.0\n",
      "[10, 3, True]  :  0.0\n",
      "[11, 3, True]  :  -0.37209302325581395\n",
      "[12, 3, True]  :  -0.7419354838709677\n",
      "[13, 3, True]  :  -0.5773195876288659\n",
      "[14, 3, True]  :  -0.5806451612903226\n",
      "[15, 3, True]  :  -0.5702479338842975\n",
      "[16, 3, True]  :  -0.47333333333333333\n",
      "[17, 3, True]  :  -0.5789473684210527\n",
      "[18, 3, True]  :  -0.5891891891891892\n",
      "[19, 3, True]  :  0.3142857142857143\n",
      "[20, 3, True]  :  0.6609071274298056\n",
      "[21, 3, True]  :  0.0\n",
      "[22, 3, True]  :  0.0\n",
      "[23, 3, True]  :  0.0\n",
      "[24, 3, True]  :  0.0\n",
      "[25, 3, True]  :  0.0\n",
      "[26, 3, True]  :  0.0\n",
      "[27, 3, True]  :  0.0\n",
      "[28, 3, True]  :  0.0\n",
      "[29, 3, True]  :  0.0\n",
      "[30, 3, True]  :  0.0\n",
      "[31, 3, True]  :  0.0\n",
      "[0, 4, True]  :  0.0\n",
      "[1, 4, True]  :  0.0\n",
      "[2, 4, True]  :  0.0\n",
      "[3, 4, True]  :  0.0\n",
      "[4, 4, True]  :  0.0\n",
      "[5, 4, True]  :  0.0\n",
      "[6, 4, True]  :  0.0\n",
      "[7, 4, True]  :  0.0\n",
      "[8, 4, True]  :  0.0\n",
      "[9, 4, True]  :  0.0\n",
      "[10, 4, True]  :  0.0\n",
      "[11, 4, True]  :  -0.46808510638297873\n",
      "[12, 4, True]  :  -0.6263736263736264\n",
      "[13, 4, True]  :  -0.5168539325842697\n",
      "[14, 4, True]  :  -0.6052631578947368\n",
      "[15, 4, True]  :  -0.552\n",
      "[16, 4, True]  :  -0.5555555555555556\n",
      "[17, 4, True]  :  -0.4357142857142857\n",
      "[18, 4, True]  :  -0.4186046511627907\n",
      "[19, 4, True]  :  0.3402061855670103\n",
      "[20, 4, True]  :  0.6754385964912281\n",
      "[21, 4, True]  :  0.0\n",
      "[22, 4, True]  :  0.0\n",
      "[23, 4, True]  :  0.0\n",
      "[24, 4, True]  :  0.0\n",
      "[25, 4, True]  :  0.0\n",
      "[26, 4, True]  :  0.0\n",
      "[27, 4, True]  :  0.0\n",
      "[28, 4, True]  :  0.0\n",
      "[29, 4, True]  :  0.0\n",
      "[30, 4, True]  :  0.0\n",
      "[31, 4, True]  :  0.0\n",
      "[0, 5, True]  :  0.0\n",
      "[1, 5, True]  :  0.0\n",
      "[2, 5, True]  :  0.0\n",
      "[3, 5, True]  :  0.0\n",
      "[4, 5, True]  :  0.0\n",
      "[5, 5, True]  :  0.0\n",
      "[6, 5, True]  :  0.0\n",
      "[7, 5, True]  :  0.0\n",
      "[8, 5, True]  :  0.0\n",
      "[9, 5, True]  :  0.0\n",
      "[10, 5, True]  :  0.0\n",
      "[11, 5, True]  :  -0.4186046511627907\n",
      "[12, 5, True]  :  -0.5245901639344263\n",
      "[13, 5, True]  :  -0.6116504854368932\n",
      "[14, 5, True]  :  -0.4824561403508772\n",
      "[15, 5, True]  :  -0.6016949152542372\n",
      "[16, 5, True]  :  -0.504\n",
      "[17, 5, True]  :  -0.38509316770186336\n",
      "[18, 5, True]  :  -0.5317919075144508\n",
      "[19, 5, True]  :  0.32386363636363635\n",
      "[20, 5, True]  :  0.6977687626774848\n",
      "[21, 5, True]  :  0.0\n",
      "[22, 5, True]  :  0.0\n",
      "[23, 5, True]  :  0.0\n",
      "[24, 5, True]  :  0.0\n",
      "[25, 5, True]  :  0.0\n",
      "[26, 5, True]  :  0.0\n",
      "[27, 5, True]  :  0.0\n",
      "[28, 5, True]  :  0.0\n",
      "[29, 5, True]  :  0.0\n",
      "[30, 5, True]  :  0.0\n",
      "[31, 5, True]  :  0.0\n",
      "[0, 6, True]  :  0.0\n",
      "[1, 6, True]  :  0.0\n",
      "[2, 6, True]  :  0.0\n",
      "[3, 6, True]  :  0.0\n",
      "[4, 6, True]  :  0.0\n",
      "[5, 6, True]  :  0.0\n",
      "[6, 6, True]  :  0.0\n",
      "[7, 6, True]  :  0.0\n",
      "[8, 6, True]  :  0.0\n",
      "[9, 6, True]  :  0.0\n",
      "[10, 6, True]  :  0.0\n",
      "[11, 6, True]  :  -0.4594594594594595\n",
      "[12, 6, True]  :  -0.8426966292134831\n",
      "[13, 6, True]  :  -0.6355140186915887\n",
      "[14, 6, True]  :  -0.4188034188034188\n",
      "[15, 6, True]  :  -0.48360655737704916\n",
      "[16, 6, True]  :  -0.35384615384615387\n",
      "[17, 6, True]  :  -0.5214723926380368\n",
      "[18, 6, True]  :  -0.43243243243243246\n",
      "[19, 6, True]  :  0.35858585858585856\n",
      "[20, 6, True]  :  0.6902050113895216\n",
      "[21, 6, True]  :  0.0\n",
      "[22, 6, True]  :  0.0\n",
      "[23, 6, True]  :  0.0\n",
      "[24, 6, True]  :  0.0\n",
      "[25, 6, True]  :  0.0\n",
      "[26, 6, True]  :  0.0\n",
      "[27, 6, True]  :  0.0\n",
      "[28, 6, True]  :  0.0\n",
      "[29, 6, True]  :  0.0\n",
      "[30, 6, True]  :  0.0\n",
      "[31, 6, True]  :  0.0\n",
      "[0, 7, True]  :  0.0\n",
      "[1, 7, True]  :  0.0\n",
      "[2, 7, True]  :  0.0\n",
      "[3, 7, True]  :  0.0\n",
      "[4, 7, True]  :  0.0\n",
      "[5, 7, True]  :  0.0\n",
      "[6, 7, True]  :  0.0\n",
      "[7, 7, True]  :  0.0\n",
      "[8, 7, True]  :  0.0\n",
      "[9, 7, True]  :  0.0\n",
      "[10, 7, True]  :  0.0\n",
      "[11, 7, True]  :  -0.8983050847457628\n",
      "[12, 7, True]  :  -0.7211538461538461\n",
      "[13, 7, True]  :  -0.3548387096774194\n",
      "[14, 7, True]  :  -0.48\n",
      "[15, 7, True]  :  -0.6433566433566433\n",
      "[16, 7, True]  :  -0.4485294117647059\n",
      "[17, 7, True]  :  -0.48148148148148145\n",
      "[18, 7, True]  :  -0.5454545454545454\n",
      "[19, 7, True]  :  0.37320574162679426\n",
      "[20, 7, True]  :  0.7359307359307359\n",
      "[21, 7, True]  :  0.0\n",
      "[22, 7, True]  :  0.0\n",
      "[23, 7, True]  :  0.0\n",
      "[24, 7, True]  :  0.0\n",
      "[25, 7, True]  :  0.0\n",
      "[26, 7, True]  :  0.0\n",
      "[27, 7, True]  :  0.0\n",
      "[28, 7, True]  :  0.0\n",
      "[29, 7, True]  :  0.0\n",
      "[30, 7, True]  :  0.0\n",
      "[31, 7, True]  :  0.0\n",
      "[0, 8, True]  :  0.0\n",
      "[1, 8, True]  :  0.0\n",
      "[2, 8, True]  :  0.0\n",
      "[3, 8, True]  :  0.0\n",
      "[4, 8, True]  :  0.0\n",
      "[5, 8, True]  :  0.0\n",
      "[6, 8, True]  :  0.0\n",
      "[7, 8, True]  :  0.0\n",
      "[8, 8, True]  :  0.0\n",
      "[9, 8, True]  :  0.0\n",
      "[10, 8, True]  :  0.0\n",
      "[11, 8, True]  :  -0.36538461538461536\n",
      "[12, 8, True]  :  -0.8105263157894737\n",
      "[13, 8, True]  :  -0.5963302752293578\n",
      "[14, 8, True]  :  -0.5371900826446281\n",
      "[15, 8, True]  :  -0.40425531914893614\n",
      "[16, 8, True]  :  -0.6174496644295302\n",
      "[17, 8, True]  :  -0.6111111111111112\n",
      "[18, 8, True]  :  -0.6\n",
      "[19, 8, True]  :  0.3333333333333333\n",
      "[20, 8, True]  :  0.7288503253796096\n",
      "[21, 8, True]  :  0.0\n",
      "[22, 8, True]  :  0.0\n",
      "[23, 8, True]  :  0.0\n",
      "[24, 8, True]  :  0.0\n",
      "[25, 8, True]  :  0.0\n",
      "[26, 8, True]  :  0.0\n",
      "[27, 8, True]  :  0.0\n",
      "[28, 8, True]  :  0.0\n",
      "[29, 8, True]  :  0.0\n",
      "[30, 8, True]  :  0.0\n",
      "[31, 8, True]  :  0.0\n",
      "[0, 9, True]  :  0.0\n",
      "[1, 9, True]  :  0.0\n",
      "[2, 9, True]  :  0.0\n",
      "[3, 9, True]  :  0.0\n",
      "[4, 9, True]  :  0.0\n",
      "[5, 9, True]  :  0.0\n",
      "[6, 9, True]  :  0.0\n",
      "[7, 9, True]  :  0.0\n",
      "[8, 9, True]  :  0.0\n",
      "[9, 9, True]  :  0.0\n",
      "[10, 9, True]  :  0.0\n",
      "[11, 9, True]  :  -0.45454545454545453\n",
      "[12, 9, True]  :  -0.5957446808510638\n",
      "[13, 9, True]  :  -0.42990654205607476\n",
      "[14, 9, True]  :  -0.5098039215686274\n",
      "[15, 9, True]  :  -0.5932203389830508\n",
      "[16, 9, True]  :  -0.43089430894308944\n",
      "[17, 9, True]  :  -0.6387096774193548\n",
      "[18, 9, True]  :  -0.4578313253012048\n",
      "[19, 9, True]  :  0.4148936170212766\n",
      "[20, 9, True]  :  0.7204545454545455\n",
      "[21, 9, True]  :  0.0\n",
      "[22, 9, True]  :  0.0\n",
      "[23, 9, True]  :  0.0\n",
      "[24, 9, True]  :  0.0\n",
      "[25, 9, True]  :  0.0\n",
      "[26, 9, True]  :  0.0\n",
      "[27, 9, True]  :  0.0\n",
      "[28, 9, True]  :  0.0\n",
      "[29, 9, True]  :  0.0\n",
      "[30, 9, True]  :  0.0\n",
      "[31, 9, True]  :  0.0\n",
      "[0, 10, True]  :  0.0\n",
      "[1, 10, True]  :  0.0\n",
      "[2, 10, True]  :  0.0\n",
      "[3, 10, True]  :  0.0\n",
      "[4, 10, True]  :  0.0\n",
      "[5, 10, True]  :  0.0\n",
      "[6, 10, True]  :  0.0\n",
      "[7, 10, True]  :  0.0\n",
      "[8, 10, True]  :  0.0\n",
      "[9, 10, True]  :  0.0\n",
      "[10, 10, True]  :  0.0\n",
      "[11, 10, True]  :  -0.8636363636363636\n",
      "[12, 10, True]  :  -0.6917098445595855\n",
      "[13, 10, True]  :  -0.7350993377483444\n",
      "[14, 10, True]  :  -0.6834061135371179\n",
      "[15, 10, True]  :  -0.6519916142557652\n",
      "[16, 10, True]  :  -0.6115843270868825\n",
      "[17, 10, True]  :  -0.6391437308868502\n",
      "[18, 10, True]  :  -0.541033434650456\n",
      "[19, 10, True]  :  0.21666666666666667\n",
      "[20, 10, True]  :  0.6905537459283387\n",
      "[21, 10, True]  :  0.0\n",
      "[22, 10, True]  :  0.0\n",
      "[23, 10, True]  :  0.0\n",
      "[24, 10, True]  :  0.0\n",
      "[25, 10, True]  :  0.0\n",
      "[26, 10, True]  :  0.0\n",
      "[27, 10, True]  :  0.0\n",
      "[28, 10, True]  :  0.0\n",
      "[29, 10, True]  :  0.0\n",
      "[30, 10, True]  :  0.0\n",
      "[31, 10, True]  :  0.0\n",
      "[0, 11, True]  :  0.0\n",
      "[1, 0, False]  :  0.0\n",
      "[2, 0, False]  :  0.0\n",
      "[3, 0, False]  :  0.0\n",
      "[4, 0, False]  :  0.0\n",
      "[5, 0, False]  :  0.0\n",
      "[6, 0, False]  :  0.0\n",
      "[7, 0, False]  :  0.0\n",
      "[8, 0, False]  :  0.0\n",
      "[9, 0, False]  :  0.0\n",
      "[10, 0, False]  :  0.0\n",
      "[11, 0, False]  :  0.0\n",
      "[12, 0, False]  :  0.0\n",
      "[13, 0, False]  :  0.0\n",
      "[14, 0, False]  :  0.0\n",
      "[15, 0, False]  :  0.0\n",
      "[16, 0, False]  :  0.0\n",
      "[17, 0, False]  :  0.0\n",
      "[18, 0, False]  :  0.0\n",
      "[19, 0, False]  :  0.0\n",
      "[20, 0, False]  :  0.0\n",
      "[21, 0, False]  :  0.0\n",
      "[22, 0, False]  :  0.0\n",
      "[23, 0, False]  :  0.0\n",
      "[24, 0, False]  :  0.0\n",
      "[25, 0, False]  :  0.0\n",
      "[26, 0, False]  :  0.0\n",
      "[27, 0, False]  :  0.0\n",
      "[28, 0, False]  :  0.0\n",
      "[29, 0, False]  :  0.0\n",
      "[30, 0, False]  :  0.0\n",
      "[31, 0, False]  :  0.0\n",
      "[0, 1, False]  :  0.0\n",
      "[1, 1, False]  :  0.0\n",
      "[2, 1, False]  :  0.0\n",
      "[3, 1, False]  :  -1.2666666666666666\n",
      "[4, 1, False]  :  -1.2149532710280373\n",
      "[5, 1, False]  :  -1.1565217391304348\n",
      "[6, 1, False]  :  -1.1895734597156398\n",
      "[7, 1, False]  :  -1.3161512027491409\n",
      "[8, 1, False]  :  -1.0850439882697946\n",
      "[9, 1, False]  :  -0.7298701298701299\n",
      "[10, 1, False]  :  -0.46436781609195404\n",
      "[11, 1, False]  :  -0.9956188389923329\n",
      "[12, 1, False]  :  -0.972885032537961\n",
      "[13, 1, False]  :  -0.8376623376623377\n",
      "[14, 1, False]  :  -0.7700803212851406\n",
      "[15, 1, False]  :  -0.6544754571703562\n",
      "[16, 1, False]  :  -0.676387582314205\n",
      "[17, 1, False]  :  -0.5192307692307693\n",
      "[18, 1, False]  :  -0.4609442060085837\n",
      "[19, 1, False]  :  0.09362549800796813\n",
      "[20, 1, False]  :  0.0\n",
      "[21, 1, False]  :  0.0\n",
      "[22, 1, False]  :  0.0\n",
      "[23, 1, False]  :  0.0\n",
      "[24, 1, False]  :  0.0\n",
      "[25, 1, False]  :  0.0\n",
      "[26, 1, False]  :  0.0\n",
      "[27, 1, False]  :  0.0\n",
      "[28, 1, False]  :  0.0\n",
      "[29, 1, False]  :  0.0\n",
      "[30, 1, False]  :  0.0\n",
      "[31, 1, False]  :  0.0\n",
      "[0, 2, False]  :  0.0\n",
      "[1, 2, False]  :  0.0\n",
      "[2, 2, False]  :  0.0\n",
      "[3, 2, False]  :  -1.1666666666666667\n",
      "[4, 2, False]  :  -1.1267605633802817\n",
      "[5, 2, False]  :  -1.0073529411764706\n",
      "[6, 2, False]  :  -0.9028571428571428\n",
      "[7, 2, False]  :  -0.9530685920577617\n",
      "[8, 2, False]  :  -0.9966329966329966\n",
      "[9, 2, False]  :  -0.5053191489361702\n",
      "[10, 2, False]  :  -0.2840909090909091\n",
      "[11, 2, False]  :  -0.7362768496420048\n",
      "[12, 2, False]  :  -0.7638297872340426\n",
      "[13, 2, False]  :  -0.6993865030674846\n",
      "[14, 2, False]  :  -0.6624338624338625\n",
      "[15, 2, False]  :  -0.5695238095238095\n",
      "[16, 2, False]  :  -0.529143897996357\n",
      "[17, 2, False]  :  -0.41278538812785387\n",
      "[18, 2, False]  :  -0.3917910447761194\n",
      "[19, 2, False]  :  0.3158593231585932\n",
      "[20, 2, False]  :  0.0\n",
      "[21, 2, False]  :  0.0\n",
      "[22, 2, False]  :  0.0\n",
      "[23, 2, False]  :  0.0\n",
      "[24, 2, False]  :  0.0\n",
      "[25, 2, False]  :  0.0\n",
      "[26, 2, False]  :  0.0\n",
      "[27, 2, False]  :  0.0\n",
      "[28, 2, False]  :  0.0\n",
      "[29, 2, False]  :  0.0\n",
      "[30, 2, False]  :  0.0\n",
      "[31, 2, False]  :  0.0\n",
      "[0, 3, False]  :  0.0\n",
      "[1, 3, False]  :  0.0\n",
      "[2, 3, False]  :  0.0\n",
      "[3, 3, False]  :  -0.9814814814814815\n",
      "[4, 3, False]  :  -0.8854166666666666\n",
      "[5, 3, False]  :  -0.8719512195121951\n",
      "[6, 3, False]  :  -0.8804347826086957\n",
      "[7, 3, False]  :  -0.8645418326693227\n",
      "[8, 3, False]  :  -0.8117283950617284\n",
      "[9, 3, False]  :  -0.44324324324324327\n",
      "[10, 3, False]  :  -0.22587719298245615\n",
      "[11, 3, False]  :  -0.7077681874229347\n",
      "[12, 3, False]  :  -0.7671381936887922\n",
      "[13, 3, False]  :  -0.6646646646646647\n",
      "[14, 3, False]  :  -0.5655577299412916\n",
      "[15, 3, False]  :  -0.5568982880161127\n",
      "[16, 3, False]  :  -0.5255941499085923\n",
      "[17, 3, False]  :  -0.466537342386033\n",
      "[18, 3, False]  :  -0.3931095406360424\n",
      "[19, 3, False]  :  0.3189940436796823\n",
      "[20, 3, False]  :  0.0\n",
      "[21, 3, False]  :  0.0\n",
      "[22, 3, False]  :  0.0\n",
      "[23, 3, False]  :  0.0\n",
      "[24, 3, False]  :  0.0\n",
      "[25, 3, False]  :  0.0\n",
      "[26, 3, False]  :  0.0\n",
      "[27, 3, False]  :  0.0\n",
      "[28, 3, False]  :  0.0\n",
      "[29, 3, False]  :  0.0\n",
      "[30, 3, False]  :  0.0\n",
      "[31, 3, False]  :  0.0\n",
      "[0, 4, False]  :  0.0\n",
      "[1, 4, False]  :  0.0\n",
      "[2, 4, False]  :  0.0\n",
      "[3, 4, False]  :  -0.7297297297297297\n",
      "[4, 4, False]  :  -0.8854166666666666\n",
      "[5, 4, False]  :  -1.1023622047244095\n",
      "[6, 4, False]  :  -0.8241206030150754\n",
      "[7, 4, False]  :  -0.9145299145299145\n",
      "[8, 4, False]  :  -0.6104417670682731\n",
      "[9, 4, False]  :  -0.31842105263157894\n",
      "[10, 4, False]  :  -0.27586206896551724\n",
      "[11, 4, False]  :  -0.7668508287292818\n",
      "[12, 4, False]  :  -0.7515657620041754\n",
      "[13, 4, False]  :  -0.6516393442622951\n",
      "[14, 4, False]  :  -0.6467611336032388\n",
      "[15, 4, False]  :  -0.5389221556886228\n",
      "[16, 4, False]  :  -0.5228821811100293\n",
      "[17, 4, False]  :  -0.4882246376811594\n",
      "[18, 4, False]  :  -0.4123348017621145\n",
      "[19, 4, False]  :  0.3324607329842932\n",
      "[20, 4, False]  :  0.0\n",
      "[21, 4, False]  :  0.0\n",
      "[22, 4, False]  :  0.0\n",
      "[23, 4, False]  :  0.0\n",
      "[24, 4, False]  :  0.0\n",
      "[25, 4, False]  :  0.0\n",
      "[26, 4, False]  :  0.0\n",
      "[27, 4, False]  :  0.0\n",
      "[28, 4, False]  :  0.0\n",
      "[29, 4, False]  :  0.0\n",
      "[30, 4, False]  :  0.0\n",
      "[31, 4, False]  :  0.0\n",
      "[0, 5, False]  :  0.0\n",
      "[1, 5, False]  :  0.0\n",
      "[2, 5, False]  :  0.0\n",
      "[3, 5, False]  :  -0.6046511627906976\n",
      "[4, 5, False]  :  -1.2183908045977012\n"
     ]
    },
    {
     "name": "stdout",
     "output_type": "stream",
     "text": [
      "[5, 5, False]  :  -0.9863945578231292\n",
      "[6, 5, False]  :  -0.9819819819819819\n",
      "[7, 5, False]  :  -0.9753086419753086\n",
      "[8, 5, False]  :  -0.8006535947712419\n",
      "[9, 5, False]  :  -0.32697547683923706\n",
      "[10, 5, False]  :  -0.3597285067873303\n",
      "[11, 5, False]  :  -0.7070484581497798\n",
      "[12, 5, False]  :  -0.7198321091290661\n",
      "[13, 5, False]  :  -0.6172839506172839\n",
      "[14, 5, False]  :  -0.5261569416498993\n",
      "[15, 5, False]  :  -0.5565388397246804\n",
      "[16, 5, False]  :  -0.5014299332697807\n",
      "[17, 5, False]  :  -0.4397537379067722\n",
      "[18, 5, False]  :  -0.4011090573012939\n",
      "[19, 5, False]  :  0.34233625928426736\n",
      "[20, 5, False]  :  0.0\n",
      "[21, 5, False]  :  0.0\n",
      "[22, 5, False]  :  0.0\n",
      "[23, 5, False]  :  0.0\n",
      "[24, 5, False]  :  0.0\n",
      "[25, 5, False]  :  0.0\n",
      "[26, 5, False]  :  0.0\n",
      "[27, 5, False]  :  0.0\n",
      "[28, 5, False]  :  0.0\n",
      "[29, 5, False]  :  0.0\n",
      "[30, 5, False]  :  0.0\n",
      "[31, 5, False]  :  0.0\n",
      "[0, 6, False]  :  0.0\n",
      "[1, 6, False]  :  0.0\n",
      "[2, 6, False]  :  0.0\n",
      "[3, 6, False]  :  -0.8222222222222222\n",
      "[4, 6, False]  :  -1.0104166666666667\n",
      "[5, 6, False]  :  -0.9802631578947368\n",
      "[6, 6, False]  :  -0.8894472361809045\n",
      "[7, 6, False]  :  -0.9113924050632911\n",
      "[8, 6, False]  :  -0.7530120481927711\n",
      "[9, 6, False]  :  -0.25326370757180156\n",
      "[10, 6, False]  :  -0.2929782082324455\n",
      "[11, 6, False]  :  -0.7617977528089888\n",
      "[12, 6, False]  :  -0.6824742268041237\n",
      "[13, 6, False]  :  -0.6100104275286757\n",
      "[14, 6, False]  :  -0.5847953216374269\n",
      "[15, 6, False]  :  -0.5407478427612655\n",
      "[16, 6, False]  :  -0.47507055503292567\n",
      "[17, 6, False]  :  -0.48366606170598914\n",
      "[18, 6, False]  :  -0.39157706093189965\n",
      "[19, 6, False]  :  0.3471234647705236\n",
      "[20, 6, False]  :  0.0\n",
      "[21, 6, False]  :  0.0\n",
      "[22, 6, False]  :  0.0\n",
      "[23, 6, False]  :  0.0\n",
      "[24, 6, False]  :  0.0\n",
      "[25, 6, False]  :  0.0\n",
      "[26, 6, False]  :  0.0\n",
      "[27, 6, False]  :  0.0\n",
      "[28, 6, False]  :  0.0\n",
      "[29, 6, False]  :  0.0\n",
      "[30, 6, False]  :  0.0\n",
      "[31, 6, False]  :  0.0\n",
      "[0, 7, False]  :  0.0\n",
      "[1, 7, False]  :  0.0\n",
      "[2, 7, False]  :  0.0\n",
      "[3, 7, False]  :  -0.8936170212765957\n",
      "[4, 7, False]  :  -1.1326530612244898\n",
      "[5, 7, False]  :  -0.9487179487179487\n",
      "[6, 7, False]  :  -0.8232323232323232\n",
      "[7, 7, False]  :  -1.0507246376811594\n",
      "[8, 7, False]  :  -0.8323170731707317\n",
      "[9, 7, False]  :  -0.359375\n",
      "[10, 7, False]  :  -0.3209302325581395\n",
      "[11, 7, False]  :  -0.8251900108577633\n",
      "[12, 7, False]  :  -0.8024149286498353\n",
      "[13, 7, False]  :  -0.7137096774193549\n",
      "[14, 7, False]  :  -0.6460945033751205\n",
      "[15, 7, False]  :  -0.5939334637964775\n",
      "[16, 7, False]  :  -0.5737240075614367\n",
      "[17, 7, False]  :  -0.46139705882352944\n",
      "[18, 7, False]  :  -0.45264116575591984\n",
      "[19, 7, False]  :  0.35122282608695654\n",
      "[20, 7, False]  :  0.0\n",
      "[21, 7, False]  :  0.0\n",
      "[22, 7, False]  :  0.0\n",
      "[23, 7, False]  :  0.0\n",
      "[24, 7, False]  :  0.0\n",
      "[25, 7, False]  :  0.0\n",
      "[26, 7, False]  :  0.0\n",
      "[27, 7, False]  :  0.0\n",
      "[28, 7, False]  :  0.0\n",
      "[29, 7, False]  :  0.0\n",
      "[30, 7, False]  :  0.0\n",
      "[31, 7, False]  :  0.0\n",
      "[0, 8, False]  :  0.0\n",
      "[1, 8, False]  :  0.0\n",
      "[2, 8, False]  :  0.0\n",
      "[3, 8, False]  :  -1.0625\n",
      "[4, 8, False]  :  -0.8636363636363636\n",
      "[5, 8, False]  :  -0.9632352941176471\n",
      "[6, 8, False]  :  -1.0147058823529411\n",
      "[7, 8, False]  :  -0.9673469387755103\n",
      "[8, 8, False]  :  -0.8885245901639345\n",
      "[9, 8, False]  :  -0.45738636363636365\n",
      "[10, 8, False]  :  -0.3023255813953488\n",
      "[11, 8, False]  :  -0.7710583153347732\n",
      "[12, 8, False]  :  -0.7340425531914894\n",
      "[13, 8, False]  :  -0.6381647549530761\n",
      "[14, 8, False]  :  -0.6709486166007905\n",
      "[15, 8, False]  :  -0.6570605187319885\n",
      "[16, 8, False]  :  -0.5209090909090909\n",
      "[17, 8, False]  :  -0.4890788224121557\n",
      "[18, 8, False]  :  -0.4215775158658205\n",
      "[19, 8, False]  :  0.3831715210355987\n",
      "[20, 8, False]  :  0.0\n",
      "[21, 8, False]  :  0.0\n",
      "[22, 8, False]  :  0.0\n",
      "[23, 8, False]  :  0.0\n",
      "[24, 8, False]  :  0.0\n",
      "[25, 8, False]  :  0.0\n",
      "[26, 8, False]  :  0.0\n",
      "[27, 8, False]  :  0.0\n",
      "[28, 8, False]  :  0.0\n",
      "[29, 8, False]  :  0.0\n",
      "[30, 8, False]  :  0.0\n",
      "[31, 8, False]  :  0.0\n",
      "[0, 9, False]  :  0.0\n",
      "[1, 9, False]  :  0.0\n",
      "[2, 9, False]  :  0.0\n",
      "[3, 9, False]  :  -0.8269230769230769\n",
      "[4, 9, False]  :  -1.1505376344086022\n",
      "[5, 9, False]  :  -0.9927536231884058\n",
      "[6, 9, False]  :  -0.8724489795918368\n",
      "[7, 9, False]  :  -1.0524017467248907\n",
      "[8, 9, False]  :  -0.8661971830985915\n",
      "[9, 9, False]  :  -0.3753351206434316\n",
      "[10, 9, False]  :  -0.3917748917748918\n",
      "[11, 9, False]  :  -0.8209302325581396\n",
      "[12, 9, False]  :  -0.7231096911608094\n",
      "[13, 9, False]  :  -0.7153134635149023\n",
      "[14, 9, False]  :  -0.6282450674974039\n",
      "[15, 9, False]  :  -0.6112759643916914\n",
      "[16, 9, False]  :  -0.5855940130963517\n",
      "[17, 9, False]  :  -0.5023562676720076\n",
      "[18, 9, False]  :  -0.4967682363804247\n",
      "[19, 9, False]  :  0.35046113306982873\n",
      "[20, 9, False]  :  0.0\n",
      "[21, 9, False]  :  0.0\n",
      "[22, 9, False]  :  0.0\n",
      "[23, 9, False]  :  0.0\n",
      "[24, 9, False]  :  0.0\n",
      "[25, 9, False]  :  0.0\n",
      "[26, 9, False]  :  0.0\n",
      "[27, 9, False]  :  0.0\n",
      "[28, 9, False]  :  0.0\n",
      "[29, 9, False]  :  0.0\n",
      "[30, 9, False]  :  0.0\n",
      "[31, 9, False]  :  0.0\n",
      "[0, 10, False]  :  0.0\n",
      "[1, 10, False]  :  0.0\n",
      "[2, 10, False]  :  0.0\n",
      "[3, 10, False]  :  -1.0529411764705883\n",
      "[4, 10, False]  :  -1.0767045454545454\n",
      "[5, 10, False]  :  -1.0442176870748299\n",
      "[6, 10, False]  :  -1.0199004975124377\n",
      "[7, 10, False]  :  -1.0969441517386722\n",
      "[8, 10, False]  :  -1.0203283815480844\n",
      "[9, 10, False]  :  -0.4887169568020632\n",
      "[10, 10, False]  :  -0.3936348408710218\n",
      "[11, 10, False]  :  -0.8898809523809523\n",
      "[12, 10, False]  :  -0.7889908256880734\n",
      "[13, 10, False]  :  -0.7536119711042312\n",
      "[14, 10, False]  :  -0.6965210954848261\n",
      "[15, 10, False]  :  -0.6400494437577255\n",
      "[16, 10, False]  :  -0.5747470101195952\n",
      "[17, 10, False]  :  -0.5168307762766201\n",
      "[18, 10, False]  :  -0.4495208379763762\n",
      "[19, 10, False]  :  0.21345863399899312\n",
      "[20, 10, False]  :  0.0\n",
      "[21, 10, False]  :  0.0\n",
      "[22, 10, False]  :  0.0\n",
      "[23, 10, False]  :  0.0\n",
      "[24, 10, False]  :  0.0\n",
      "[25, 10, False]  :  0.0\n",
      "[26, 10, False]  :  0.0\n",
      "[27, 10, False]  :  0.0\n",
      "[28, 10, False]  :  0.0\n",
      "[29, 10, False]  :  0.0\n",
      "[30, 10, False]  :  0.0\n",
      "[31, 10, False]  :  0.0\n"
     ]
    }
   ],
   "source": [
    "def policy_printer(q) :\n",
    "    \n",
    "    for i in range(len(q)) :\n",
    "        print(decode(i),' : ', q[i])\n",
    "        \n",
    "policy_printer(q)"
   ]
  },
  {
   "cell_type": "markdown",
   "metadata": {
    "id": "1tZPXEiVOKKq"
   },
   "source": [
    "### Visualisez\n",
    "Vous pouvez visualiser le résultat avec ce code qui affiche $v_\\pi$.\n",
    "Le code ci-dessous permet de faire un graphique en 2D où la couleur représente la fonction de valeur (plus la couleur est chaude, plus la valeur est haute)."
   ]
  },
  {
   "cell_type": "code",
   "execution_count": 110,
   "metadata": {},
   "outputs": [],
   "source": [
    "def policy_2d_plot(q, maxSum = maxSum, maxOppScore = maxOppScore) :\n",
    "    x = np.arange(0,maxSum,1)\n",
    "    y = np.arange(0,maxOppScore,1)\n",
    "    # z1 for the states with usable ace\n",
    "    z1 = np.zeros((maxSum,maxOppScore))\n",
    "    # z2 for the states without usable ace\n",
    "    z2 = np.zeros((maxSum,maxOppScore))\n",
    "\n",
    "    for i in range(maxSum):\n",
    "      for j in range(maxOppScore):\n",
    "        index = encode([i,j,True])\n",
    "        z1[i,j] =  q[index]\n",
    "        index = encode([i,j,False])\n",
    "        z2[i,j] =  q[index]\n",
    "\n",
    "    xx, yy = np.meshgrid(x,y)\n",
    "    h = plt.contourf(x,y,z1[:,:].T)\n",
    "    plt.title(\"with usable Ace\")\n",
    "    plt.xlabel(\"points in player's hand\")\n",
    "    plt.ylabel(\"points of the card of the dealer\")\n",
    "    plt.show()\n",
    "    h = plt.contourf(x,y,z2[:,:].T)\n",
    "    plt.title(\"without usable Ace\")\n",
    "    plt.xlabel(\"points in player's hand\")\n",
    "    plt.ylabel(\"points of the card of the dealer\")\n",
    "    plt.show()\n",
    "    \n",
    "    return xx, yy, z1, z2"
   ]
  },
  {
   "cell_type": "code",
   "execution_count": 111,
   "metadata": {
    "colab": {
     "base_uri": "https://localhost:8080/",
     "height": 521
    },
    "id": "HYJUiUXwtV6u",
    "outputId": "2c8b56f1-c305-42ef-9523-b3c761fa09df"
   },
   "outputs": [
    {
     "data": {
      "image/png": "[encoded data removed]",
      "text/plain": [
       "<Figure size 432x288 with 1 Axes>"
      ]
     },
     "metadata": {
      "needs_background": "light"
     },
     "output_type": "display_data"
    },
    {
     "data": {
      "image/png": "[encoded data removed]",
      "text/plain": [
       "<Figure size 432x288 with 1 Axes>"
      ]
     },
     "metadata": {
      "needs_background": "light"
     },
     "output_type": "display_data"
    }
   ],
   "source": [
    "xx, yy, z1, z2 = policy_2d_plot(q)\n"
   ]
  },
  {
   "cell_type": "markdown",
   "metadata": {
    "id": "240S43acQ4gH"
   },
   "source": [
    "L'exemple du code ci-dessous permet de générer des graphiques en 3D pour visualiser la fonction $v$."
   ]
  },
  {
   "cell_type": "code",
   "execution_count": 113,
   "metadata": {},
   "outputs": [],
   "source": [
    "def policy_3d_plot(xx, yy, z1, z2) :\n",
    "    fig = plt.figure()\n",
    "    ax = fig.gca(projection='3d')\n",
    "    ax.plot_surface(xx,yy,z1[:,:].T)\n",
    "    ax.view_init(40,125)\n",
    "    plt.title(\"with usable Ace\")\n",
    "    plt.xlabel(\"points in player's hand\")\n",
    "    plt.ylabel(\"points of the card of the dealer\")\n",
    "    ax.set_zlabel(\"value of the state\")\n",
    "    plt.show()\n",
    "\n",
    "    fig = plt.figure()\n",
    "    ax = fig.gca(projection='3d')\n",
    "    ax.plot_surface(xx,yy,z2[:,:].T)\n",
    "    ax.view_init(40,125)\n",
    "    plt.title(\"without usable Ace\")\n",
    "    plt.xlabel(\"points in player's hand\")\n",
    "    plt.ylabel(\"points of the card of the dealer\")\n",
    "    ax.set_zlabel(\"value of the state\")\n",
    "    plt.show()"
   ]
  },
  {
   "cell_type": "code",
   "execution_count": 114,
   "metadata": {
    "colab": {
     "base_uri": "https://localhost:8080/"
    },
    "id": "ZDAgSL2Oz7uB",
    "outputId": "769b2325-47c8-49dc-d1d1-fa34579e1300"
   },
   "outputs": [
    {
     "data": {
      "image/png": "[encoded data removed]",
      "text/plain": [
       "<Figure size 432x288 with 1 Axes>"
      ]
     },
     "metadata": {
      "needs_background": "light"
     },
     "output_type": "display_data"
    },
    {
     "data": {
      "image/png": "[encoded data removed]",
      "text/plain": [
       "<Figure size 432x288 with 1 Axes>"
      ]
     },
     "metadata": {
      "needs_background": "light"
     },
     "output_type": "display_data"
    }
   ],
   "source": [
    "policy_3d_plot(xx, yy, z1, z2)"
   ]
  },
  {
   "cell_type": "markdown",
   "metadata": {
    "id": "SdfdzXaHrHaV"
   },
   "source": [
    "## Résolution: trouver une politique optimale\n",
    "\n",
    "Avec les algorithmes \"Value Iteration\" ou \"Policy Iteration\", on aurait besoin de calculer la matrice de transition. Etant donné le nombre d'états, il serait probablement très fastidieux d'écrire cette matrice \"à la main\" ou bien d'écrire un programme pour calculer chaque probabilité exactement!"
   ]
  },
  {
   "cell_type": "markdown",
   "metadata": {
    "id": "uIrB52oa_-s7"
   },
   "source": [
    "\n",
    "\n",
    "### Implémentez\n",
    "\n",
    "Le but est d'implémenter l'algorithme Monte Carlo \"on policy\" pour trouver la politique optimale.\n",
    "\n",
    "* Implémentez une fonction $draw(\\pi)$\n",
    " qui prend en paramètre une distribution de probabilités sur les actions et qui tire une action au hasard en utilisant cette distribution\n",
    "* Implémentez une méthode $epsGreedy(\\epsilon, q)$ qui implémente $\\epsilon$-glouton: \n",
    "  * avec une probabilité $\\epsilon$, la méthode choisie une action de manière uniforme\n",
    "  * avec une probabilité $1-\\epsilon$, ma méthode choisie l'action qui a la plus grande valeur $q$. Si plusieurs actions ont la même valeur maximale $\\max_i q(i)$, il serait bon d'en choisir une au hasard (au lieu peut-être de choisir toujours la première action qui a pour valeur $\\max_i q(i)$).\n",
    "* implémentez une fonction $onPolicyMC(numEpisodes, \\gamma, \\epsilon)$ qui implémente l'algorithme on policy Monte Carlo qui résoud de manière optimale un PDM. Votre fonction peut retourner la valeur des paires (action, etat). Les paramètres d'entrée sont \n",
    "    * numEpisodes: le nombre d'épisodes utilisés pour apprendre la politique optimale\n",
    "    * $\\gamma$ est le taux d'escompte: on veut optimiser $\\displaystyle G_t = \\sum_{k=0}^\\infty \\gamma^k r_{t+k+1}$\n",
    "    * $\\epsilon$ est le paramètre pour utiliser $\\epsilon$-greedy pour l'exploration\n",
    "* Une fois que vous avez terminé, visualisez la politique trouvée (vous pouvez écrire dans un tableau si vous continuez ou vous vous arrêtez selon la valeur de la carte du croupier et selon la valeur de votre main (ou utiliser des couleurs). Est-ce que cette politique vous parait correcte? En comparant avec la politique étudiée plus haut, donne-t-elle des meilleures valeurs?\n",
    "\n",
    "Notez qu'il serait bon d'avoir une implémentation qui puisse être générale de façon à pouvoir utiliser votre code pour d'autres environnement. En particulier dans le jeu de blackjack, on utilise $\\gamma=1$, mais cela pourrait être différent pour d'autres environnement.\n",
    "\n",
    "Si vous rencontrez des difficultés pour coder, vous pouvez dans un premier temps faire un code spécifique qui fait l'hypothèse que $\\gamma=1$, voir même que vous recevez un récompense non nulle lorsque vous atteignez un état terminal. L'implémentation de ce cas est plus simple."
   ]
  },
  {
   "cell_type": "markdown",
   "metadata": {},
   "source": [
    "**Signatures** \n",
    "\n",
    "void run_episode(observations, rewards, actions, env, strategy, strategy_args = {}) \n",
    "- observations : list(tuples), all states encountered in the episode\n",
    "- rewards : list(int), rewards at any state of the episode\n",
    "- actions : list(int), actions made in the episode\n",
    "- env : a gym environment (blackjack-v0)\n",
    "- strategy : see below\n",
    "- strategy_args : dict, see below\n",
    "\n",
    "updates observations, rewards, actions according to env, strategy and strategy params\n",
    "\n",
    "int strategy(observation, \\*\\*strategy_args)\n",
    "- observation in observations, tuple  \n",
    "- strategy_args : further arguments \n",
    "\n",
    "returns an int that gives the next action to perform according to the last observation"
   ]
  },
  {
   "cell_type": "code",
   "execution_count": 8,
   "metadata": {},
   "outputs": [],
   "source": [
    "import random\n",
    "import scipy.stats"
   ]
  },
  {
   "cell_type": "code",
   "execution_count": 76,
   "metadata": {},
   "outputs": [],
   "source": [
    "#q array(numActions,)\n",
    "def epsilonGreedy(epsilon, q) :\n",
    "    tmp_bool = float(scipy.stats.bernoulli.rvs(epsilon, size = 1))\n",
    "    \n",
    "    #greedy\n",
    "    if tmp_bool == 0. : \n",
    "        q_max = np.where(q == np.max(q))[0] # find all argmax\n",
    "        #print(q_max)\n",
    "        return np.random.choice(q_max, size = 1)[0] #randomly among argmax\n",
    "    else :\n",
    "        return np.random.randint(0, len(q), size = 1)[0] #randomly"
   ]
  },
  {
   "cell_type": "code",
   "execution_count": 99,
   "metadata": {},
   "outputs": [],
   "source": [
    "def custom_strategy(observation, epsilon, q):\n",
    "    state = encode(observation)\n",
    "    return epsilonGreedy(epsilon, q[state - 1, :])"
   ]
  },
  {
   "cell_type": "code",
   "execution_count": 266,
   "metadata": {},
   "outputs": [],
   "source": [
    "def onPolicyMC(numEpisodes, \n",
    "               gamma, \n",
    "               epsilon, \n",
    "               run_episode = run_episode,\n",
    "               strategy = custom_strategy, \n",
    "               env = env,\n",
    "               numStates = numStates, \n",
    "               numActions = numActions):\n",
    "    \n",
    "      \n",
    "    #Initialization\n",
    "    pi = 1/numActions * np.ones((numStates, numActions)) #no prior\n",
    "    q = np.zeros((numStates, numActions)) #weighted returns vector\n",
    "    n = np.zeros((numStates, numActions)) #number of times that we chose state s in S\n",
    "    acc = np.zeros((numStates, numActions)) #long_term rewards\n",
    "    astar = np.zeros(numStates, dtype = 'i')\n",
    "    \n",
    "    \n",
    "    #Main\n",
    "    for t in range(numEpisodes) :\n",
    "        \n",
    "        rewards = []\n",
    "        observations = []\n",
    "        visited = []\n",
    "        actions = []\n",
    "\n",
    "        #run episode\n",
    "        strategy_args = {'epsilon' : epsilon, 'q' : q}\n",
    "        run_episode(observations, rewards, actions, env, strategy, strategy_args)\n",
    "        \n",
    "        #POLICY UPDATE\n",
    "        maxk = len(observations)\n",
    "        k = maxk\n",
    "        \n",
    "        for observation in observations :\n",
    "\n",
    "            tmp = encode(observation)\n",
    "\n",
    "            if tmp in visited : #already updated\n",
    "                k -= 1\n",
    "\n",
    "            else :\n",
    "                G = np.sum( rewards[:k] * (gamma * np.ones(k))**np.arange(k) )\n",
    "                acc[tmp - 1, actions[maxk - k]] += G\n",
    "                n[tmp - 1, actions[maxk - k]] += 1\n",
    "                q[tmp - 1, actions[maxk - k]] = acc[tmp - 1, actions[maxk - k]] / n[tmp - 1, actions[maxk - k]]\n",
    "                k -= 1\n",
    "                visited.append(tmp)\n",
    "            \n",
    "            astar[tmp - 1] = np.argmax(q[tmp - 1, :])\n",
    "            #print(astar[tmp - 1])\n",
    "            pi[tmp - 1, :] = epsilon/numActions * np.ones(numActions)\n",
    "            #print(pi)\n",
    "            pi[tmp - 1, astar[tmp - 1]] = 1 - epsilon + epsilon/numActions\n",
    "        \n",
    "    return astar"
   ]
  },
  {
   "cell_type": "code",
   "execution_count": 267,
   "metadata": {},
   "outputs": [
    {
     "name": "stdout",
     "output_type": "stream",
     "text": [
      "0  :  0\n",
      "1  :  0\n",
      "2  :  0\n",
      "3  :  0\n",
      "4  :  0\n",
      "5  :  0\n",
      "6  :  0\n",
      "7  :  0\n",
      "8  :  0\n",
      "9  :  0\n",
      "10  :  0\n",
      "11  :  0\n",
      "12  :  0\n",
      "13  :  0\n",
      "14  :  0\n",
      "15  :  1\n"
     ]
    }
   ],
   "source": [
    " astar = onPolicyMC(numEpisodes = 100000, \n",
    "           gamma = 1, \n",
    "           epsilon = 0.1, \n",
    "           run_episode = run_episode,\n",
    "           strategy = custom_strategy, \n",
    "           env = env, \n",
    "           numStates = numStates, \n",
    "           numActions = numActions)\n",
    "    \n",
    "policy_printer(astar)"
   ]
  },
  {
   "cell_type": "markdown",
   "metadata": {},
   "source": [
    "### Strategy assessment"
   ]
  },
  {
   "cell_type": "code",
   "execution_count": 115,
   "metadata": {},
   "outputs": [],
   "source": [
    "def new_strategy(observation, q) :\n",
    "    return q[encode(observation)]"
   ]
  },
  {
   "cell_type": "code",
   "execution_count": 149,
   "metadata": {},
   "outputs": [],
   "source": [
    "q = MC_policy_evaluation(new_strategy, strategy_args = {'q' : astar})"
   ]
  },
  {
   "cell_type": "code",
   "execution_count": 150,
   "metadata": {},
   "outputs": [
    {
     "data": {
      "image/png": "[encoded data removed]",
      "text/plain": [
       "<Figure size 432x288 with 1 Axes>"
      ]
     },
     "metadata": {
      "needs_background": "light"
     },
     "output_type": "display_data"
    },
    {
     "data": {
      "image/png": "[encoded data removed]",
      "text/plain": [
       "<Figure size 432x288 with 1 Axes>"
      ]
     },
     "metadata": {
      "needs_background": "light"
     },
     "output_type": "display_data"
    }
   ],
   "source": [
    "xx, yy, z1, z2 = policy_2d_plot(q)"
   ]
  },
  {
   "cell_type": "code",
   "execution_count": 151,
   "metadata": {},
   "outputs": [
    {
     "data": {
      "image/png": "[encoded data removed]",
      "text/plain": [
       "<Figure size 432x288 with 1 Axes>"
      ]
     },
     "metadata": {
      "needs_background": "light"
     },
     "output_type": "display_data"
    },
    {
     "data": {
      "image/png": "[encoded data removed]",
      "text/plain": [
       "<Figure size 432x288 with 1 Axes>"
      ]
     },
     "metadata": {
      "needs_background": "light"
     },
     "output_type": "display_data"
    }
   ],
   "source": [
    "policy_3d_plot(xx, yy, z1, z2 )"
   ]
  },
  {
   "cell_type": "markdown",
   "metadata": {
    "id": "IN7KBDdRlxXP"
   },
   "source": [
    "### Bonus\n",
    "Vous pouvez tester votre code sur un autre environnement simple, par exemple frozen lake. Il existe plusieurs version de cet environnement, un avec une petite grille, un autre avec une grille plus grande.  On utilisera cet environnement dans le prochain TP.\n",
    "\n",
    "https://reinforcement-learning4.fun/2019/06/16/gym-tutorial-frozen-lake/#:~:text=%20Gym%20Tutorial%3A%20The%20Frozen%20Lake%20%201,to%20play%20the%20Frozen%20Lake%20game.%20More%20\n",
    "\n",
    "actions = {\n",
    "    'Left': 0,\n",
    "    'Down': 1,\n",
    "    'Right': 2, \n",
    "    'Up': 3\n",
    "}\n"
   ]
  },
  {
   "cell_type": "code",
   "execution_count": 152,
   "metadata": {
    "colab": {
     "base_uri": "https://localhost:8080/",
     "height": 71
    },
    "id": "FUlcP8p8mwGp",
    "outputId": "bf43800b-9dd9-4484-d360-7b7c6cda6510"
   },
   "outputs": [
    {
     "name": "stdout",
     "output_type": "stream",
     "text": [
      "there are  4 actions\n",
      "observation space:  Discrete(16)\n",
      "there are  16 states\n"
     ]
    }
   ],
   "source": [
    "env = gym.make(\"FrozenLake-v0\")\n",
    "numActions = env.action_space.n\n",
    "print(\"there are \", numActions, \"actions\")\n",
    "print(\"observation space: \", env.observation_space)\n",
    "numStates = env.observation_space.n\n",
    "print(\"there are \", numStates, \"states\")"
   ]
  },
  {
   "cell_type": "code",
   "execution_count": 295,
   "metadata": {},
   "outputs": [
    {
     "data": {
      "text/plain": [
       "0"
      ]
     },
     "execution_count": 295,
     "metadata": {},
     "output_type": "execute_result"
    }
   ],
   "source": [
    "env.reset()"
   ]
  },
  {
   "cell_type": "code",
   "execution_count": 296,
   "metadata": {},
   "outputs": [
    {
     "name": "stdout",
     "output_type": "stream",
     "text": [
      "\n",
      "\u001b[41mS\u001b[0mFFF\n",
      "FHFH\n",
      "FFFH\n",
      "HFFG\n"
     ]
    }
   ],
   "source": [
    "env.render()"
   ]
  },
  {
   "cell_type": "code",
   "execution_count": 297,
   "metadata": {
    "colab": {
     "base_uri": "https://localhost:8080/",
     "height": 107
    },
    "id": "wHwZgmPYGbME",
    "outputId": "67c60709-ab7c-4c7f-a994-7d8408dfac0e"
   },
   "outputs": [
    {
     "data": {
      "text/plain": [
       "(4, 0.0, False, {'prob': 0.3333333333333333})"
      ]
     },
     "execution_count": 297,
     "metadata": {},
     "output_type": "execute_result"
    }
   ],
   "source": [
    "env.step(2)\n"
   ]
  },
  {
   "cell_type": "code",
   "execution_count": 298,
   "metadata": {},
   "outputs": [
    {
     "name": "stdout",
     "output_type": "stream",
     "text": [
      "  (Right)\n",
      "SFFF\n",
      "\u001b[41mF\u001b[0mHFH\n",
      "FFFH\n",
      "HFFG\n"
     ]
    }
   ],
   "source": [
    "env.render()"
   ]
  },
  {
   "cell_type": "code",
   "execution_count": 308,
   "metadata": {},
   "outputs": [
    {
     "data": {
      "text/plain": [
       "(4, 0.0, False, {'prob': 0.3333333333333333})"
      ]
     },
     "execution_count": 308,
     "metadata": {},
     "output_type": "execute_result"
    }
   ],
   "source": [
    "env.step(0)"
   ]
  },
  {
   "cell_type": "code",
   "execution_count": 309,
   "metadata": {},
   "outputs": [
    {
     "name": "stdout",
     "output_type": "stream",
     "text": [
      "  (Left)\n",
      "SFFF\n",
      "\u001b[41mF\u001b[0mHFH\n",
      "FFFH\n",
      "HFFG\n"
     ]
    }
   ],
   "source": [
    "env.render()"
   ]
  },
  {
   "cell_type": "code",
   "execution_count": 310,
   "metadata": {},
   "outputs": [
    {
     "data": {
      "text/plain": [
       "(5, 0.0, True, {'prob': 0.3333333333333333})"
      ]
     },
     "execution_count": 310,
     "metadata": {},
     "output_type": "execute_result"
    }
   ],
   "source": [
    "env.step(3)"
   ]
  },
  {
   "cell_type": "markdown",
   "metadata": {
    "id": "eUfEMiXDnZhz"
   },
   "source": [
    "notez que dans cet environnement, les états sont simplement numérotés, on n'a donc plus besoin d'une fonction pour encoder ou décoder les états. "
   ]
  },
  {
   "cell_type": "code",
   "execution_count": 201,
   "metadata": {
    "id": "tp5HKXUAnAq4"
   },
   "outputs": [],
   "source": [
    "def encode(state):\n",
    "  return state\n",
    "\n",
    "def decode(state):\n",
    "  return state"
   ]
  },
  {
   "cell_type": "code",
   "execution_count": 320,
   "metadata": {},
   "outputs": [],
   "source": [
    "def run_episode_FL(observations, rewards, actions, env, strategy, strategy_args = {}) :\n",
    "    \n",
    "    #Intital hand\n",
    "    observation = env.reset() #restart frozen lake\n",
    "    observations.append(observation)\n",
    "    rewards.append(0) #0 reward at step 0\n",
    "    action = strategy(observation, **strategy_args) #next action(strategy, observation)\n",
    "    actions.append(action)\n",
    "    no_bust = True\n",
    "\n",
    "    #next hands\n",
    "    while no_bust : #until we're done\n",
    "        hand = env.step(actions[-1])\n",
    "        observations.append(hand[0])\n",
    "        rewards.append(hand[1])\n",
    "        action = strategy(observations[-1], **strategy_args) #we take a decision for our next action\n",
    "        actions.append(action)\n",
    "        no_bust = not(hand[2])\n",
    "        "
   ]
  },
  {
   "cell_type": "code",
   "execution_count": 321,
   "metadata": {},
   "outputs": [
    {
     "name": "stdout",
     "output_type": "stream",
     "text": [
      "0  :  0\n",
      "1  :  0\n",
      "2  :  0\n",
      "3  :  0\n",
      "4  :  0\n",
      "5  :  0\n",
      "6  :  0\n",
      "7  :  0\n",
      "8  :  0\n",
      "9  :  0\n",
      "10  :  0\n",
      "11  :  0\n",
      "12  :  0\n",
      "13  :  0\n",
      "14  :  0\n",
      "15  :  0\n"
     ]
    }
   ],
   "source": [
    "astar = onPolicyMC(numEpisodes = 1000, \n",
    "            gamma = 1/2, \n",
    "            epsilon = 1/3,\n",
    "            run_episode = run_episode_FL,\n",
    "            strategy = custom_strategy, \n",
    "            env = env, \n",
    "            numStates = numStates, \n",
    "            numActions = numActions)\n",
    "\n",
    "policy_printer(astar)"
   ]
  }
 ],
 "metadata": {
  "colab": {
   "name": "TP-RL-MC.ipynb",
   "provenance": []
  },
  "kernelspec": {
   "display_name": "Python 3",
   "language": "python",
   "name": "python3"
  },
  "language_info": {
   "codemirror_mode": {
    "name": "ipython",
    "version": 3
   },
   "file_extension": ".py",
   "mimetype": "text/x-python",
   "name": "python",
   "nbconvert_exporter": "python",
   "pygments_lexer": "ipython3",
   "version": "3.8.5"
  }
 },
 "nbformat": 4,
 "nbformat_minor": 1
}
