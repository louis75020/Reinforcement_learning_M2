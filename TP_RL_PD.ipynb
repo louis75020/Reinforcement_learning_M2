{
 "cells": [
  {
   "cell_type": "markdown",
   "metadata": {
    "id": "GqDAHSx_XFh9"
   },
   "source": [
    "# Value Iteration & Policy Iteration"
   ]
  },
  {
   "cell_type": "markdown",
   "metadata": {
    "id": "BeCbCndGXPr_"
   },
   "source": [
    "On va utiliser l'exemple du monde grille simple. \n",
    "\n",
    "![Grid World](https://www.lamsade.dauphine.fr/~airiau/Teaching/M2-IASDapp-RL/gridworld.png)\n",
    "\n",
    "\n",
    "\n",
    "On va numéroter les états comme suit:\n",
    "\n",
    "| 7 | 8 | 9 | 10 |\n",
    "|---|---|----|---|\n",
    "| **4** |  - | **5** | **6**  |\n",
    "| **0** | **1** | **2** | **3**  |\n",
    "\n",
    "Les états finaux sont donc les états 6 et 10.\n",
    "\n",
    "On a 4 actions disponibles, on les encode de la façon suivante:\n",
    "* $\\uparrow$: 0 \n",
    "* $\\leftarrow$ : 1\n",
    "* $\\downarrow$: 2\n",
    "* $\\rightarrow$ : 3\n",
    "\n",
    "Ci-dessous, on a entré pour vous la matrice de transition $T$ et la matrice de récompense $R$. Ainsi $T[s_1,a,s_2]$ donne la probabilité d'atteindre l'état $s_2$ en ayant pris l'action $a$ dans l'état $s_1$ et $R[s,a]$ donne la récompense immédiate reçue après avoir pris l'action $a$ dans l'état $s$.\n",
    "\n",
    "Vous pouvez facilement changer la pénalité pour avancer d'une case en changeant la valeur de la variable `penalty` ci-dessous.\n",
    "\n",
    "Ce n'est peut-être pas la manière la plus élégante, mais cela suffira pour l'exercice!\n",
    "\n"
   ]
  },
  {
   "cell_type": "code",
   "execution_count": 2,
   "metadata": {
    "id": "AGGujRrVXEe3"
   },
   "outputs": [],
   "source": [
    "import numpy as np\n",
    "import matplotlib.pyplot as plt\n",
    "\n",
    "\n",
    "l=0.8\n",
    "s = 0.1\n",
    "v_win = 1\n",
    "v_lose = -1\n",
    "\n",
    "T = np.zeros((11, 4, 11))\n",
    "#UP\n",
    "T[0,0,:]=[s, s, 0, 0, l, 0, 0, 0, 0, 0, 0 ] \n",
    "T[1,0,:]=[s, l, s, 0, 0, 0, 0, 0, 0, 0, 0 ]\n",
    "T[2,0,:]=[0, s, 0, s, 0, l, 0, 0, 0, 0, 0 ]\n",
    "T[3,0,:]=[0, 0, s, s, 0, 0, l, 0, 0, 0, 0 ]\n",
    "T[4,0,:]=[0, 0, 0, 0, 2*s, 0, 0, l, 0, 0, 0 ]\n",
    "T[5,0,:]=[0, 0, 0, 0, 0, s, s, 0, 0, l, 0 ]\n",
    "T[6,0,:]=[0, 0, 0, 0, 0, 0, 0, 0, 0, 0, 0 ]\n",
    "T[7,0,:]=[0, 0, 0, 0, 0, 0, 0, s+l, s, 0, 0 ]\n",
    "T[8,0,:]=[0, 0, 0, 0, 0, 0, 0, s, l, s, 0 ]\n",
    "T[9,0,:]=[0, 0, 0, 0, 0, 0, 0, 0, s, l, s ]\n",
    "T[10,0,:]=[0, 0, 0, 0, 0, 0, 0, 0, 0, 0,0 ]\n",
    "#LEFT\n",
    "T[0,1,:]=[s+l, 0, 0, 0, s, 0, 0, 0, 0, 0, 0 ] \n",
    "T[1,1,:]=[l, 2*s, 0, 0, 0, 0, 0, 0, 0, 0, 0 ]\n",
    "T[2,1,:]=[0, l, s, 0, 0, s, 0, 0, 0, 0, 0 ]\n",
    "T[3,1,:]=[0, 0, l, s, 0, 0, s, 0, 0, 0, 0 ]\n",
    "T[4,1,:]=[s, 0, 0, 0, l, 0, 0, s, 0, 0, 0 ]\n",
    "T[5,1,:]=[0, 0, s, 0, 0, l, 0, 0, 0, s, 0 ]\n",
    "T[6,1,:]=[0, 0, 0, 0, 0, 0, 0, 0, 0, 0, 0 ]\n",
    "T[7,1,:]=[0, 0, 0, 0, s, 0, 0, s+l, 0, 0, 0 ]\n",
    "T[8,1,:]=[0, 0, 0, 0, 0, 0, 0, l, 2*s, 0, 0 ]\n",
    "T[9,1,:]=[0, 0, 0, 0, 0, s, 0, 0, l, s, 0 ]\n",
    "T[10,1,:]=[0, 0, 0, 0, 0, 0, 0, 0, 0, 0,0 ]\n",
    "# DOWN\n",
    "T[0,2,:]=[s+l, s, 0, 0, 0, 0, 0, 0, 0, 0, 0 ] \n",
    "T[1,2,:]=[s, l, s, 0, 0, 0, 0, 0, 0, 0, 0 ]\n",
    "T[2,2,:]=[0, s, l, s, 0, 0, 0, 0, 0, 0, 0 ]\n",
    "T[3,2,:]=[0, 0, s, l+s, 0, 0, 0, 0, 0, 0, 0 ]\n",
    "T[4,2,:]=[l, 0, 0, 0, 2*s, 0, 0, 0, 0, 0, 0 ]\n",
    "T[5,2,:]=[0, 0, l, 0, 0, s, s, 0, 0, 0, 0 ]\n",
    "T[6,2,:]=[0, 0, 0, 0, 0, 0, 0, 0, 0, 0, 0 ]\n",
    "T[7,2,:]=[0, 0, 0, 0, l, 0, 0, s, s, 0, 0 ]\n",
    "T[8,2,:]=[0, 0, 0, 0, 0, 0, 0, s, l, s, 0 ]\n",
    "T[9,2,:]=[0, 0, 0, 0, 0, 0, 0, 0, s, l, s ]\n",
    "T[10,2,:]=[0, 0, 0, 0, 0, 0, 0, 0, 0, 0,0 ]\n",
    "#RIGHT\n",
    "T[0,3,:]=[s, l, 0, 0, s, 0, 0, 0, 0, 0, 0 ] \n",
    "T[1,3,:]=[0, 2*s, l, 0, 0, 0, 0, 0, 0, 0, 0 ]\n",
    "T[2,3,:]=[0, 0, s, l, 0, s, 0, 0, 0, 0, 0 ]\n",
    "T[3,3,:]=[0, 0, 0, s+l, 0, 0, s, 0, 0, 0, 0 ]\n",
    "T[4,3,:]=[s, 0, 0, 0, l, 0, 0, s, 0, 0, 0 ]\n",
    "T[5,3,:]=[0, 0, s, 0, 0, 0, l, 0, 0, s, 0 ]\n",
    "T[6,3,:]=[0, 0, 0, 0, 0, 0, 0, 0, 0, 0, 0 ]\n",
    "T[7,3,:]=[0, 0, 0, 0, s, 0, 0, s, l, 0, 0 ]\n",
    "T[8,3,:]=[0, 0, 0, 0, 0, 0, 0, 0, 2*s, l, 0 ]\n",
    "T[9,3,:]=[0, 0, 0, 0, 0, s, 0, 0, 0, s, l ]\n",
    "T[10,3,:]=[0, 0, 0, 0, 0, 0, 0, 0, 0, 0,0 ]\n",
    "\n",
    "penalty= 0.00;\n",
    "R = penalty*np.ones((11,4))\n",
    "R[10,:]= np.ones(4)*v_win\n",
    "R[6,:]= np.ones(4)*v_lose\n"
   ]
  },
  {
   "cell_type": "code",
   "execution_count": 3,
   "metadata": {
    "id": "y2iqnIKhlg2k"
   },
   "outputs": [],
   "source": [
    "def printV(v):\n",
    "  print('| {:03.2f} | {:03.2f} | {:03.2f} | {:03.2f} |'.format(v[7], v[8], v[9], v[10]))\n",
    "  print('| {:03.2f} | ---- | {:03.2f} | {:03.1f} |'.format(v[4], v[5], v[6]))\n",
    "  print('| {:03.2f} | {:03.2f} | {:03.2f} | {:03.2f} |'.format(v[0], v[1], v[2], v[3]))\n",
    "  "
   ]
  },
  {
   "cell_type": "code",
   "execution_count": 4,
   "metadata": {
    "id": "jvibNWnFzAQO"
   },
   "outputs": [],
   "source": [
    "# plot the best policy given the value function v:\n",
    "# i.e. plot the best action for each state given the value function v.\n",
    "\n",
    "def plotBestPolicy(v, gamma):\n",
    "  bestV=np.zeros(11)\n",
    "  bestA=np.zeros(11)\n",
    "  fig, ax = plt.subplots()\n",
    "  # policy extraction\n",
    "  for s1 in range(11):\n",
    "    val=[]\n",
    "    for a in range(4):\n",
    "      va=0\n",
    "      for s2 in range(11):\n",
    "        va += T[s1,a,s2]*v[s2]\n",
    "      val= val+[ R[s1,a]+gamma*va ]\n",
    "    bestV[s1]=np.max(val)\n",
    "    bestA[s1]=np.argmax(val)\n",
    "\n",
    "    matV= np.array( [[bestV[7], bestV[8], bestV[9], bestV[10]],\n",
    "                    [bestV[4],   -1 , bestV[5], bestV[6]],\n",
    "                    [bestV[0], bestV[1], bestV[2], bestV[3]]]\n",
    "                    )\n",
    "    matA = np.array([\n",
    "                    [bestA[7], bestA[8], bestA[9], -1],\n",
    "                    [bestA[4],   -1 , bestA[5], -1],\n",
    "                    [bestA[0], bestA[1], bestA[2], bestA[3]]])\n",
    "\n",
    "    im = ax.imshow(matV)\n",
    "\n",
    "\n",
    "  for i in range(matV.shape[0]):\n",
    "      for j in range(matV.shape[1]):\n",
    "          if matA[i][j]==-1:\n",
    "              arrow = ''\n",
    "          elif matA[i, j] == 0:\n",
    "              arrow = '^'\n",
    "          elif matA[i, j] == 1:\n",
    "              arrow = '<'\n",
    "          elif matA[i, j] == 2:\n",
    "              arrow = 'v'\n",
    "          elif matA[i, j] == 3:\n",
    "              arrow = '>'\n",
    "          text = ax.text(j, i, arrow, ha = \"center\", va = \"center\",\n",
    "                         color = \"black\")\n",
    "            \n",
    "  cbar = ax.figure.colorbar(im, ax = ax)\n",
    "    \n",
    "  fig.tight_layout()\n",
    "  plt.show() "
   ]
  },
  {
   "cell_type": "markdown",
   "metadata": {
    "id": "10zkeVqGtFpO"
   },
   "source": [
    "## Value Iteration\n",
    "Implémentez l'algorithme d'itération sur les valeurs. Pour ce faire, implémentez une fonction qui prend en paramètre:\n",
    "* $\\epsilon$ le paramètre pour le test d'arrêt (dans un premier temps, vous pouvez remplacer ce paramètre par un nombre d'itération maximal, comme dans l'appel ci-dessou)\n",
    "* $\\gamma$ le taux d'escompte (i.e. un facteur qui dévalue une récomponse obtenue dans le future)\n",
    "* $T$ la matrice de transition\n",
    "* $R$ la matrice de récompense\n",
    "\n",
    "La méthode retourne le vecteur $v: S \\rightarrow {\\mathbb R}$ qui associe à chaque état la valeur optimale de cet état.\n",
    "\n",
    "La fonction $printV$ ci-dessous affichera les valeurs de $v$ pour le problème du gridworld.\n",
    "\n",
    "Vous pourrez ainsi tester si vous retrouvez les valeurs de l'exemple montré en cours. "
   ]
  },
  {
   "cell_type": "code",
   "execution_count": 71,
   "metadata": {},
   "outputs": [],
   "source": [
    "##########Value Iteration##########\n",
    "\n",
    "def valueIteration(epsilon, gamma, T = T, R = R, max_iter = 10000, log = True):\n",
    "    \n",
    "    #Initialization\n",
    "    \n",
    "    cardS = R.shape[0] # Number of possible states\n",
    "    vn1 = np.zeros(cardS) #Vector of weighted returns\n",
    "    \n",
    "    #Main \n",
    "    for n in range(max_iter) :\n",
    "        \n",
    "        vn = vn1 #save\n",
    "        vn1 = np.max (R + gamma * np.sum(T * vn, axis = 2), axis = 1)\n",
    "        #max_A [(S, A) + sum_S( (S,A,S)*(S,.))] ok\n",
    "        \n",
    "        delta = np.abs(vn - vn1)#stopping condition\n",
    "        \n",
    "        if (delta < epsilon).all() :\n",
    "            if log : print(\"The algorithm has converged with \", n, \" iterations\")\n",
    "            return vn1\n",
    "                           \n",
    "    if log : print(\"The algorithm has failed to converge\")\n",
    "    return vn1\n",
    "    "
   ]
  },
  {
   "cell_type": "code",
   "execution_count": 73,
   "metadata": {
    "colab": {
     "base_uri": "https://localhost:8080/",
     "height": 68
    },
    "id": "ai_RjaGylVnM",
    "outputId": "1f9a38f0-392b-40e4-f34e-704b422546e6"
   },
   "outputs": [
    {
     "name": "stdout",
     "output_type": "stream",
     "text": [
      "The algorithm has converged with  51  iterations\n",
      "| 0.64 | 0.74 | 0.85 | 1.00 |\n",
      "| 0.57 | ---- | 0.57 | -1.0 |\n",
      "| 0.49 | 0.43 | 0.48 | 0.28 |\n"
     ]
    }
   ],
   "source": [
    "w = valueIteration(1e-16, 0.9, T, R)\n",
    "printV(w)"
   ]
  },
  {
   "cell_type": "code",
   "execution_count": null,
   "metadata": {
    "colab": {
     "base_uri": "https://localhost:8080/",
     "height": 295
    },
    "id": "4AMDenr44UCt",
    "outputId": "f158214b-8e40-4340-d1dd-8e113d627385"
   },
   "outputs": [
    {
     "data": {
      "image/png": "[encoded data removed]",
      "text/plain": [
       "<Figure size 432x288 with 2 Axes>"
      ]
     },
     "metadata": {
      "needs_background": "light",
      "tags": []
     },
     "output_type": "display_data"
    }
   ],
   "source": [
    "plotBestPolicy(w, 0.9)"
   ]
  },
  {
   "cell_type": "code",
   "execution_count": 75,
   "metadata": {},
   "outputs": [
    {
     "data": {
      "image/png": "[encoded data removed]",
      "text/plain": [
       "<Figure size 432x288 with 2 Axes>"
      ]
     },
     "metadata": {
      "needs_background": "light"
     },
     "output_type": "display_data"
    }
   ],
   "source": [
    "plotBestPolicy(w, 0.9)"
   ]
  },
  {
   "cell_type": "markdown",
   "metadata": {
    "id": "iOUAug-46kNB"
   },
   "source": [
    "Vous pouvez modifier la matrice de récompense pour observer les différentes politiques optimales vues en cours. Peut-être en avons nous oublié?\n"
   ]
  },
  {
   "cell_type": "markdown",
   "metadata": {
    "id": "j6Gh1rWu6SLI"
   },
   "source": [
    "## Policy Iteration\n",
    "\n",
    "Implémentez l'algorithme d'itération sur les politiques. Pour débuger, vous pouvez regarder dessiner la politique avec les fonctions ci-dessus (pour voir la fonction de valeur et/ou la politique associée).\n"
   ]
  },
  {
   "cell_type": "markdown",
   "metadata": {},
   "source": [
    "↑\n",
    ": 0\n",
    "←\n",
    ": 1\n",
    "↓\n",
    ": 2\n",
    "→\n",
    ": 3"
   ]
  },
  {
   "cell_type": "code",
   "execution_count": 107,
   "metadata": {},
   "outputs": [],
   "source": [
    "pi0_s = np.zeros((11, 4)) #11 states 4 actions\n",
    "\n",
    "pi0_s[0, :] = [0, 0, 0, 1] #in 0 we go right\n",
    "pi0_s[1, :] = [0, 0, 0, 1] #in 1 we go right\n",
    "pi0_s[2, :] = [1, 0, 0, 0] #in 2 we go up\n",
    "pi0_s[3, :] = [0, 1, 0, 0] #in 3 we go left\n",
    "pi0_s[4, :] = [0, 0, 1, 0] #in 4 we go down\n",
    "pi0_s[5, :] = [1, 0, 0, 0] #in 5 we go up\n",
    "pi0_s[6, :] = [0, 0, 1, 0] #in 6 we go down\n",
    "pi0_s[7, :] = [0, 0, 0, 1] #in 7 we go right\n",
    "pi0_s[8, :] = [0, 0, 0, 1] #in 8 we go right\n",
    "pi0_s[9, :] = [0, 0, 1, 0] #in 10 we go down\n",
    "pi0_s[10, :] = [0, 0, 0, 1] #in 11 we go right\n",
    "\n",
    "pi0 = np.array([3,3,0,1,2,0,2,3,3,2,3], dtype = 'i')"
   ]
  },
  {
   "cell_type": "code",
   "execution_count": 61,
   "metadata": {},
   "outputs": [
    {
     "data": {
      "text/plain": [
       "array([[0.1, 0.8, 0. , 0. , 0.1, 0. , 0. , 0. , 0. , 0. , 0. ],\n",
       "       [0. , 0.2, 0.8, 0. , 0. , 0. , 0. , 0. , 0. , 0. , 0. ],\n",
       "       [0. , 0.1, 0. , 0.1, 0. , 0.8, 0. , 0. , 0. , 0. , 0. ],\n",
       "       [0. , 0. , 0.8, 0.1, 0. , 0. , 0.1, 0. , 0. , 0. , 0. ],\n",
       "       [0.8, 0. , 0. , 0. , 0.2, 0. , 0. , 0. , 0. , 0. , 0. ],\n",
       "       [0. , 0. , 0. , 0. , 0. , 0.1, 0.1, 0. , 0. , 0.8, 0. ],\n",
       "       [0. , 0. , 0. , 0. , 0. , 0. , 0. , 0. , 0. , 0. , 0. ],\n",
       "       [0. , 0. , 0. , 0. , 0.1, 0. , 0. , 0.1, 0.8, 0. , 0. ],\n",
       "       [0. , 0. , 0. , 0. , 0. , 0. , 0. , 0. , 0.2, 0.8, 0. ],\n",
       "       [0. , 0. , 0. , 0. , 0. , 0. , 0. , 0. , 0.1, 0.8, 0.1],\n",
       "       [0. , 0. , 0. , 0. , 0. , 0. , 0. , 0. , 0. , 0. , 0. ]])"
      ]
     },
     "execution_count": 61,
     "metadata": {},
     "output_type": "execute_result"
    }
   ],
   "source": [
    "#test\n",
    "cardS = 11\n",
    "T2 = np.zeros((cardS, cardS))\n",
    "for s in range(cardS) :\n",
    "    T2[:,s] = np.sum(pi0_s * T[:,:,s], axis = 1)\n",
    "T2"
   ]
  },
  {
   "cell_type": "code",
   "execution_count": 64,
   "metadata": {},
   "outputs": [
    {
     "data": {
      "text/plain": [
       "array([ 0.,  0.,  0.,  0.,  0.,  0., -1.,  0.,  0.,  0.,  1.])"
      ]
     },
     "execution_count": 64,
     "metadata": {},
     "output_type": "execute_result"
    }
   ],
   "source": [
    "np.sum(pi0_s * R, axis = 1)"
   ]
  },
  {
   "cell_type": "code",
   "execution_count": 108,
   "metadata": {},
   "outputs": [],
   "source": [
    "def compute_Tpi(pi_s, T):\n",
    "    cardS = T.shape[0]\n",
    "    T2 = np.zeros((cardS, cardS))\n",
    "    for s in range(cardS) : T2[:,s] = np.sum(pi0_s * T[:,:,s], axis = 1)\n",
    "    return T2\n",
    "\n",
    "def compute_Rpi(pi_s, R): return np.sum(pi_s * R, axis = 1)\n",
    "\n",
    "def compute_vpi(pi_s, T, R, gamma) :\n",
    "    Tpi = compute_Tpi(pi_s, T)\n",
    "    #print(Tpi)\n",
    "    Rpi = compute_Rpi(pi_s, R)\n",
    "    #print(Rpi)\n",
    "    return np.dot(np.linalg.inv(np.eye(cardS, cardS) - gamma * Tpi),  Rpi)\n",
    "\n",
    "def deterministic_to_conditionnal(pi) :\n",
    "    pi_s = np.zeros((len(pi), 4), dtype = 'i')\n",
    "    for s in range(len(pi)) :\n",
    "        pi_s[s, pi[s]] = 1\n",
    "    return pi_s\n",
    "\n",
    "def conditionnal_to_deterministic(pi_s):\n",
    "    pi = np.zeros(len(pi_s), dtype = 'i')\n",
    "    for s in range(len(pi_s)):\n",
    "        pi[s] = np.argmax(pi_s[s, :])\n",
    "    return pi"
   ]
  },
  {
   "cell_type": "code",
   "execution_count": 128,
   "metadata": {},
   "outputs": [],
   "source": [
    "#######Policy iteration#########\n",
    "\n",
    "def policy_iteration(epsilon, gamma, pi0, T = T, R = R, max_iter = 1000, log = True, save_vpi = True):\n",
    "    \n",
    "    #Initialization\n",
    "    cardS = R.shape[0] # Number of possible states\n",
    "    pin1 = pi0 #Vector of optimal policy\n",
    "    if save_vpi : vn = np.zeros(cardS)\n",
    "    \n",
    "    #Main \n",
    "    for n in range(max_iter) :\n",
    "        \n",
    "        pin = pin1 #save\n",
    "        pin_s = deterministic_to_conditionnal(pin)\n",
    "        \n",
    "        #Poliy evaluation : v(pi) = (I - gamma.T(pi))^(-1).Rpi\n",
    "        vpi = compute_vpi(pin_s, T, R, gamma)\n",
    "        if save_vpi : vn = vpi\n",
    "        #print(vpi)\n",
    "        \n",
    "        #Policy update\n",
    "        pin1 = np.argmax( R + gamma * np.sum(T * vpi, axis = 2), axis = 1 )\n",
    "        delta = np.abs(pin - pin1)\n",
    "        \n",
    "        if (delta < epsilon).all() :\n",
    "            if log : print(\"The algorithm has converged with \", n, \" iterations\")\n",
    "            if save_vpi : return pin1, vn\n",
    "            return pin1\n",
    "                           \n",
    "    if log : print(\"The algorithm has failed to converge\")\n",
    "    if save_vpi : return pin1, vn\n",
    "    return pin1"
   ]
  },
  {
   "cell_type": "code",
   "execution_count": 136,
   "metadata": {},
   "outputs": [
    {
     "name": "stdout",
     "output_type": "stream",
     "text": [
      "The algorithm has converged with  1  iterations\n"
     ]
    },
    {
     "data": {
      "text/plain": [
       "array([0, 1, 1, 2, 0, 1, 0, 3, 3, 3, 0], dtype=int64)"
      ]
     },
     "execution_count": 136,
     "metadata": {},
     "output_type": "execute_result"
    }
   ],
   "source": [
    "pi, v = policy_iteration(1e-16, 0.5, pi0)\n",
    "pi"
   ]
  },
  {
   "cell_type": "code",
   "execution_count": 137,
   "metadata": {},
   "outputs": [
    {
     "name": "stdout",
     "output_type": "stream",
     "text": [
      "| 0.02 | 0.04 | 0.09 | 1.00 |\n",
      "| -0.00 | ---- | -0.02 | -1.0 |\n",
      "| -0.00 | -0.00 | -0.01 | -0.06 |\n"
     ]
    }
   ],
   "source": [
    "printV(v)"
   ]
  },
  {
   "cell_type": "code",
   "execution_count": 138,
   "metadata": {},
   "outputs": [
    {
     "data": {
      "image/png": "[encoded data removed]",
      "text/plain": [
       "<Figure size 432x288 with 2 Axes>"
      ]
     },
     "metadata": {
      "needs_background": "light"
     },
     "output_type": "display_data"
    }
   ],
   "source": [
    "plotBestPolicy(v, 0.5)"
   ]
  },
  {
   "cell_type": "code",
   "execution_count": 139,
   "metadata": {},
   "outputs": [
    {
     "data": {
      "text/plain": [
       "array([3, 3, 0, 1, 2, 0, 2, 3, 3, 2, 3], dtype=int32)"
      ]
     },
     "execution_count": 139,
     "metadata": {},
     "output_type": "execute_result"
    }
   ],
   "source": [
    "pi0 "
   ]
  },
  {
   "cell_type": "code",
   "execution_count": 140,
   "metadata": {},
   "outputs": [
    {
     "data": {
      "text/plain": [
       "array([0, 1, 1, 2, 0, 1, 0, 3, 3, 3, 0], dtype=int64)"
      ]
     },
     "execution_count": 140,
     "metadata": {},
     "output_type": "execute_result"
    }
   ],
   "source": [
    "pi"
   ]
  }
 ],
 "metadata": {
  "colab": {
   "name": "TP-RL-PD.ipynb",
   "provenance": []
  },
  "kernelspec": {
   "display_name": "Python 3",
   "language": "python",
   "name": "python3"
  },
  "language_info": {
   "codemirror_mode": {
    "name": "ipython",
    "version": 3
   },
   "file_extension": ".py",
   "mimetype": "text/x-python",
   "name": "python",
   "nbconvert_exporter": "python",
   "pygments_lexer": "ipython3",
   "version": "3.8.5"
  }
 },
 "nbformat": 4,
 "nbformat_minor": 1
}
